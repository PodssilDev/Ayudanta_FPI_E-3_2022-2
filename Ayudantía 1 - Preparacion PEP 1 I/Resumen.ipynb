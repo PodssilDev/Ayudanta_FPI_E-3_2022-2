{
 "cells": [
  {
   "cell_type": "markdown",
   "id": "d3afda4a",
   "metadata": {},
   "source": [
    "# **AYUDANTÍA 1 FPI E-3 28/09/2022**"
   ]
  },
  {
   "cell_type": "code",
   "execution_count": 5,
   "id": "7faf81fd",
   "metadata": {},
   "outputs": [
    {
     "name": "stdout",
     "output_type": "stream",
     "text": [
      "9\n"
     ]
    }
   ],
   "source": [
    "lista = [3,4,9,12,1,8]\n",
    "# Elemeto 3 -> 0\n",
    "# Elemento 4 -> 1\n",
    "# Elemento 9 -> 2\n",
    "print(lista[2])"
   ]
  },
  {
   "cell_type": "markdown",
   "id": "1b5757b7",
   "metadata": {},
   "source": [
    "Para acceder a la posición de un elemento ya sea una lista o un string, debo colocar el nombre de mi variable junto con [] y dentro de [] debe ir la posición del elemento. Si yo no se la posición del elemento, puedo usar el método index()"
   ]
  },
  {
   "cell_type": "code",
   "execution_count": 6,
   "id": "5a56440d",
   "metadata": {},
   "outputs": [
    {
     "name": "stdout",
     "output_type": "stream",
     "text": [
      "2\n"
     ]
    }
   ],
   "source": [
    "print(lista.index(9))"
   ]
  },
  {
   "cell_type": "code",
   "execution_count": 10,
   "id": "86dac0f1",
   "metadata": {},
   "outputs": [
    {
     "name": "stdout",
     "output_type": "stream",
     "text": [
      "0\n"
     ]
    }
   ],
   "source": [
    "lista = [3,4,3,6,3]\n",
    "print(lista.index(3))\n",
    "\n"
   ]
  },
  {
   "cell_type": "markdown",
   "id": "f1acd238",
   "metadata": {},
   "source": [
    "index() solamente me entrega la posición de la primera instancia del elemento"
   ]
  },
  {
   "cell_type": "code",
   "execution_count": 12,
   "id": "a9c7e642",
   "metadata": {},
   "outputs": [
    {
     "name": "stdout",
     "output_type": "stream",
     "text": [
      "9\n",
      "3\n",
      "2\n",
      "6\n",
      "7\n"
     ]
    }
   ],
   "source": [
    "lista = [9,3,2,6,7]\n",
    "numero_elementos = len(lista)\n",
    "aux = 0 # CONTADOR O ITERADOR\n",
    "# while (condicion)\n",
    "while aux < numero_elementos:# Mientras 0 < 5\n",
    "    print(lista[aux])\n",
    "    aux += 1 # aux = aux + 1\n",
    "    \n",
    "j = 0\n"
   ]
  },
  {
   "cell_type": "markdown",
   "id": "a3605a28",
   "metadata": {},
   "source": [
    "Recordemos dos booleanos: True False"
   ]
  },
  {
   "cell_type": "code",
   "execution_count": 14,
   "id": "8fcc0937",
   "metadata": {},
   "outputs": [],
   "source": [
    "flag = False\n",
    "# flag es solo una variable booleana que suele cambiar con el tiempo"
   ]
  },
  {
   "cell_type": "code",
   "execution_count": 15,
   "id": "dbf7df0a",
   "metadata": {},
   "outputs": [],
   "source": [
    "palabra = \"villa\" # 'villa'\n"
   ]
  },
  {
   "cell_type": "markdown",
   "id": "7378dff8",
   "metadata": {},
   "source": [
    "Algunos metodos con strings: Palabra.upper() transforma Palabra a mayusculas, Palabra.lower() transforma Palabra a minusculas"
   ]
  },
  {
   "cell_type": "code",
   "execution_count": null,
   "id": "1ad24cd9",
   "metadata": {},
   "outputs": [],
   "source": []
  }
 ],
 "metadata": {
  "kernelspec": {
   "display_name": "Python 3 (ipykernel)",
   "language": "python",
   "name": "python3"
  },
  "language_info": {
   "codemirror_mode": {
    "name": "ipython",
    "version": 3
   },
   "file_extension": ".py",
   "mimetype": "text/x-python",
   "name": "python",
   "nbconvert_exporter": "python",
   "pygments_lexer": "ipython3",
   "version": "3.9.7"
  }
 },
 "nbformat": 4,
 "nbformat_minor": 5
}
