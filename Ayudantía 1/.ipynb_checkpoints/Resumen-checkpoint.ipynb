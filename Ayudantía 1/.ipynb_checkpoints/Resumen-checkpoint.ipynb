{
 "cells": [
  {
   "cell_type": "markdown",
   "id": "e6d1d623",
   "metadata": {},
   "source": [
    "# **AYUDANTÍA 1 FPI E-3 28/09/2022**"
   ]
  },
  {
   "cell_type": "code",
   "execution_count": 5,
   "id": "ea9198fa",
   "metadata": {},
   "outputs": [
    {
     "name": "stdout",
     "output_type": "stream",
     "text": [
      "9\n"
     ]
    }
   ],
   "source": [
    "lista = [3,4,9,12,1,8]\n",
    "# Elemeto 3 -> 0\n",
    "# Elemento 4 -> 1\n",
    "# Elemento 9 -> 2\n",
    "print(lista[2])"
   ]
  },
  {
   "cell_type": "markdown",
   "id": "9f8ce54e",
   "metadata": {},
   "source": [
    "Para acceder a la posición de un elemento ya sea una lista o un string, debo colocar el nombre de mi variable junto con [] y dentro de [] debe ir la posición del elemento. Si yo no se la posición del elemento, puedo usar el método index()"
   ]
  },
  {
   "cell_type": "code",
   "execution_count": 6,
   "id": "62598443",
   "metadata": {},
   "outputs": [
    {
     "name": "stdout",
     "output_type": "stream",
     "text": [
      "2\n"
     ]
    }
   ],
   "source": [
    "print(lista.index(9))"
   ]
  },
  {
   "cell_type": "code",
   "execution_count": 8,
   "id": "c76f6b41",
   "metadata": {},
   "outputs": [
    {
     "ename": "ValueError",
     "evalue": "[3] is not in list",
     "output_type": "error",
     "traceback": [
      "\u001b[1;31m---------------------------------------------------------------------------\u001b[0m",
      "\u001b[1;31mValueError\u001b[0m                                Traceback (most recent call last)",
      "\u001b[1;32m~\\AppData\\Local\\Temp/ipykernel_12800/1447812953.py\u001b[0m in \u001b[0;36m<module>\u001b[1;34m\u001b[0m\n\u001b[0;32m      1\u001b[0m \u001b[0mlista\u001b[0m \u001b[1;33m=\u001b[0m \u001b[1;33m[\u001b[0m\u001b[1;36m3\u001b[0m\u001b[1;33m,\u001b[0m\u001b[1;36m4\u001b[0m\u001b[1;33m,\u001b[0m\u001b[1;36m3\u001b[0m\u001b[1;33m,\u001b[0m\u001b[1;36m6\u001b[0m\u001b[1;33m,\u001b[0m\u001b[1;36m3\u001b[0m\u001b[1;33m]\u001b[0m\u001b[1;33m\u001b[0m\u001b[1;33m\u001b[0m\u001b[0m\n\u001b[1;32m----> 2\u001b[1;33m \u001b[0mprint\u001b[0m\u001b[1;33m(\u001b[0m\u001b[0mlista\u001b[0m\u001b[1;33m.\u001b[0m\u001b[0mindex\u001b[0m\u001b[1;33m(\u001b[0m\u001b[1;33m[\u001b[0m\u001b[1;36m3\u001b[0m\u001b[1;33m]\u001b[0m\u001b[1;33m)\u001b[0m\u001b[1;33m)\u001b[0m\u001b[1;33m\u001b[0m\u001b[1;33m\u001b[0m\u001b[0m\n\u001b[0m",
      "\u001b[1;31mValueError\u001b[0m: [3] is not in list"
     ]
    }
   ],
   "source": [
    "lista = [3,4,3,6,3]\n",
    "print(lista.index([3]))\n"
   ]
  },
  {
   "cell_type": "markdown",
   "id": "63c5ea96",
   "metadata": {},
   "source": [
    "index() solamente me entrega la posición de la primera instancia del elemento"
   ]
  },
  {
   "cell_type": "code",
   "execution_count": null,
   "id": "72fd127b",
   "metadata": {},
   "outputs": [],
   "source": []
  }
 ],
 "metadata": {
  "kernelspec": {
   "display_name": "Python 3 (ipykernel)",
   "language": "python",
   "name": "python3"
  },
  "language_info": {
   "codemirror_mode": {
    "name": "ipython",
    "version": 3
   },
   "file_extension": ".py",
   "mimetype": "text/x-python",
   "name": "python",
   "nbconvert_exporter": "python",
   "pygments_lexer": "ipython3",
   "version": "3.9.7"
  }
 },
 "nbformat": 4,
 "nbformat_minor": 5
}
