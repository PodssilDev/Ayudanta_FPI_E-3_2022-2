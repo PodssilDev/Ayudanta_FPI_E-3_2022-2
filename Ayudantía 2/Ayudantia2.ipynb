{
 "cells": [
  {
   "cell_type": "markdown",
   "id": "2d1baf00",
   "metadata": {},
   "source": [
    "# Ayudantía 2 29/09/2022\n"
   ]
  },
  {
   "cell_type": "markdown",
   "id": "ec7cd2b5",
   "metadata": {},
   "source": [
    "While (Mientras) tiene la gracia que recibe una condición y dependiendo de esa condición se repite un bloque de codigo "
   ]
  },
  {
   "cell_type": "code",
   "execution_count": 1,
   "id": "3af253e8",
   "metadata": {},
   "outputs": [
    {
     "name": "stdout",
     "output_type": "stream",
     "text": [
      "Hola\n",
      "Hola\n",
      "Hola\n",
      "Hola\n"
     ]
    }
   ],
   "source": [
    "i = 0\n",
    "lista = [3,4,6,2]\n",
    "while i < len(lista):\n",
    "    print(\"Hola\")\n",
    "    i += 1"
   ]
  },
  {
   "cell_type": "code",
   "execution_count": 2,
   "id": "c8829ef3",
   "metadata": {},
   "outputs": [
    {
     "name": "stdout",
     "output_type": "stream",
     "text": [
      "Encontre la letra i\n",
      "Encontre la letra i\n",
      "Encontre la letra i\n"
     ]
    }
   ],
   "source": [
    "lista_nombres = [\"Diego\", \"Vicente\", \"Javiera\", \"John\"]\n",
    "i = 0\n",
    "while i < len(lista_nombres):\n",
    "    elemento_actual = lista_nombres[i]\n",
    "    j = 0\n",
    "    while j < len(elemento_actual):\n",
    "        if(elemento_actual[j] == \"i\"):\n",
    "            print(\"Encontre la letra i\")\n",
    "        j += 1\n",
    "    i += 1\n",
    "# ESTO NO ES PARTE DEL CICLO WHILE"
   ]
  },
  {
   "cell_type": "code",
   "execution_count": 3,
   "id": "6b36c852",
   "metadata": {},
   "outputs": [
    {
     "name": "stdout",
     "output_type": "stream",
     "text": [
      "<class 'int'>\n",
      "<class 'int'>\n",
      "<class 'int'>\n",
      "-----------------\n",
      "<class 'str'>\n",
      "<class 'str'>\n",
      "<class 'str'>\n"
     ]
    }
   ],
   "source": [
    "# Transformar elementos de una lista de String a Integers\n",
    "lista_strings = [\"2\", \"3\", \"4\"]\n",
    "\n",
    "i = 0\n",
    "while i < len(lista_strings):\n",
    "    elemento_actual = type(int(lista_strings[i]))\n",
    "    print(elemento_actual)\n",
    "    i += 1\n",
    "print(\"-----------------\")\n",
    "i = 0\n",
    "while i < len(lista_strings):\n",
    "    elemento_actual = type(lista_strings[i])\n",
    "    print(elemento_actual)\n",
    "    i += 1"
   ]
  },
  {
   "cell_type": "markdown",
   "id": "2930905a",
   "metadata": {},
   "source": [
    "Podemos utilizar el método .split(\"algo\") para separar un string y convertir los elementos en una lista. \"algo\" debe ser un string  "
   ]
  },
  {
   "cell_type": "code",
   "execution_count": 4,
   "id": "d086cea3",
   "metadata": {},
   "outputs": [
    {
     "name": "stdout",
     "output_type": "stream",
     "text": [
      "['Hola', 'que', 'tal', 'tu', 'dia']\n"
     ]
    }
   ],
   "source": [
    "strings = \"Hola,que,tal,tu,dia\"\n",
    "lista_elementos = strings.split(\",\")\n",
    "print(lista_elementos)"
   ]
  },
  {
   "cell_type": "markdown",
   "id": "51b96e80",
   "metadata": {},
   "source": [
    "Metodos que mañana podrian prohibir:"
   ]
  },
  {
   "cell_type": "markdown",
   "id": "dae23420",
   "metadata": {},
   "source": [
    "* max() \n",
    "\n",
    "* min()\n",
    "\n",
    "* reverse()\n",
    "\n",
    "* sort()"
   ]
  },
  {
   "cell_type": "code",
   "execution_count": 5,
   "id": "b58acbca",
   "metadata": {},
   "outputs": [
    {
     "name": "stdout",
     "output_type": "stream",
     "text": [
      "['John', 'Camila']\n",
      "1\n"
     ]
    }
   ],
   "source": [
    "# append\n",
    "\n",
    "lista = []\n",
    "lista.append(\"John\")\n",
    "lista.append(\"Camila\")\n",
    "\n",
    "posicion = lista.index(\"Camila\")\n",
    "print(lista)\n",
    "print(posicion)"
   ]
  },
  {
   "cell_type": "markdown",
   "id": "f1a3565b",
   "metadata": {},
   "source": [
    "* append(): Agrega un elemento a la lista, agregandolo al final de la lista. Dentro de los parentesis debe colocarse el elemento a agregar\n",
    "\n",
    "* index(): Obtiene la posición de un elemento de la lista. Dentro de los parentesis debe colocarse el elemento a buscar"
   ]
  },
  {
   "cell_type": "markdown",
   "id": "7b8a9b85",
   "metadata": {},
   "source": [
    "eval(): Eval permite que Python \"evalue\" el formato de la entrada para asignar un tipo de dato. Permite ahorrar problemas al utilizar list junto con input para ingresar una lista por entrada"
   ]
  },
  {
   "cell_type": "code",
   "execution_count": 6,
   "id": "68f51f01",
   "metadata": {},
   "outputs": [
    {
     "name": "stdout",
     "output_type": "stream",
     "text": [
      "Ingrese algo: [3,4,2]\n",
      "<class 'list'>\n",
      "[3, 4, 2]\n"
     ]
    }
   ],
   "source": [
    "entrada = eval(input(\"Ingrese algo: \"))\n",
    "print(type(entrada))\n",
    "print(entrada)"
   ]
  },
  {
   "cell_type": "code",
   "execution_count": 7,
   "id": "c837f995",
   "metadata": {
    "scrolled": true
   },
   "outputs": [
    {
     "name": "stdout",
     "output_type": "stream",
     "text": [
      "Ingrese nuvamente algo: [3,4,2]\n",
      "<class 'list'>\n",
      "['[', '3', ',', '4', ',', '2', ']']\n"
     ]
    }
   ],
   "source": [
    "entrada = list(input(\"Ingrese nuvamente algo: \"))\n",
    "print(type(entrada))\n",
    "print(entrada)"
   ]
  },
  {
   "cell_type": "code",
   "execution_count": 8,
   "id": "4fac59c0",
   "metadata": {},
   "outputs": [
    {
     "name": "stdout",
     "output_type": "stream",
     "text": [
      "15\n"
     ]
    }
   ],
   "source": [
    "acumulador = 0\n",
    "lista_numeros = [3,4,6,2]\n",
    "i = 0\n",
    "while i < len(lista_numeros):\n",
    "    acumulador = acumulador + lista_numeros[i]\n",
    "    i += 1\n",
    "print(acumulador)"
   ]
  },
  {
   "cell_type": "code",
   "execution_count": 9,
   "id": "3e6ae5d4",
   "metadata": {},
   "outputs": [
    {
     "name": "stdout",
     "output_type": "stream",
     "text": [
      "3\n",
      "4\n",
      "2\n",
      "1\n"
     ]
    }
   ],
   "source": [
    "lista = [3,4,2,1]\n",
    "\n",
    "print(lista[0]) # 3\n",
    "print(lista[1]) # 4\n",
    "print(lista[2]) # 2\n",
    "print(lista[3]) # 1"
   ]
  },
  {
   "cell_type": "markdown",
   "id": "2bfd809b",
   "metadata": {},
   "source": [
    "# Malas practicas"
   ]
  },
  {
   "cell_type": "markdown",
   "id": "c069c5a4",
   "metadata": {},
   "source": [
    "* while(True)\n",
    "\n",
    "* break"
   ]
  },
  {
   "cell_type": "code",
   "execution_count": null,
   "id": "d1b45e3d",
   "metadata": {},
   "outputs": [],
   "source": []
  }
 ],
 "metadata": {
  "kernelspec": {
   "display_name": "Python 3 (ipykernel)",
   "language": "python",
   "name": "python3"
  },
  "language_info": {
   "codemirror_mode": {
    "name": "ipython",
    "version": 3
   },
   "file_extension": ".py",
   "mimetype": "text/x-python",
   "name": "python",
   "nbconvert_exporter": "python",
   "pygments_lexer": "ipython3",
   "version": "3.9.7"
  }
 },
 "nbformat": 4,
 "nbformat_minor": 5
}
