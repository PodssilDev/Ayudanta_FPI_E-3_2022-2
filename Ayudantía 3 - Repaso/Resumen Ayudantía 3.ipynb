{
 "cells": [
  {
   "cell_type": "markdown",
   "id": "77651185",
   "metadata": {},
   "source": [
    "# Ayudantía 3 FPI E-3"
   ]
  },
  {
   "cell_type": "markdown",
   "id": "3703c34c",
   "metadata": {},
   "source": [
    "# Listas en Python"
   ]
  },
  {
   "cell_type": "markdown",
   "id": "550fe3cc",
   "metadata": {},
   "source": [
    "Las listas en Python son una forma de agrupar elementos. Podemos realizar distintas operaciones con listas y los elementos de estas listas pueden ser Integers, Float, Booleanos, Strings e incluso sub-listas. **Debemos tener en consideración que una lista SIEMPRE se escribe entre paréntesis cuadrados ([]) y los elementos se separan utilizando comas (,)**"
   ]
  },
  {
   "attachments": {
    "imagen_2022-10-19_183245224.png": {
     "image/png": "[encoded data removed]"
    }
   },
   "cell_type": "markdown",
   "id": "dba91f79",
   "metadata": {},
   "source": [
    "![imagen_2022-10-19_183245224.png](attachment:imagen_2022-10-19_183245224.png)"
   ]
  },
  {
   "cell_type": "markdown",
   "id": "67023af7",
   "metadata": {},
   "source": [
    "Los elementos de una lista se cuentan desde la posición **0** hasta la posición **n-1**, donde **n** es la cantidad de elementos que contiene una lista (También conocido como el largo de una lista). Podemos utilizar la función **len(nombre_lista)** para poder obtener el largo de una lista, donde **nombre_lista** es el nombre de la variable que contiene a la lista."
   ]
  },
  {
   "cell_type": "markdown",
   "id": "b1e6771e",
   "metadata": {},
   "source": [
    "## **Definir una lista vacía** <br>\n",
    "\n",
    "En Python podemos definir una lista inicialmente vacía igualando la variable a utilizar a **[]**"
   ]
  },
  {
   "cell_type": "code",
   "execution_count": 1,
   "id": "bebd5d1f",
   "metadata": {},
   "outputs": [
    {
     "name": "stdout",
     "output_type": "stream",
     "text": [
      "Una lista vacia es:  []\n",
      "Una lista con elementos es:  [3, 4, 2]\n"
     ]
    }
   ],
   "source": [
    "# En Python podemos definir una lista inicialmente vacia igualando la variable a utilizar a []\n",
    "lista_vacia = []\n",
    "print(\"Una lista vacia es: \", lista_vacia)\n",
    "\n",
    "# Tambien podemos definir una lista que ya viene con elementos\n",
    "lista = [3,4,2]\n",
    "print(\"Una lista con elementos es: \", lista)"
   ]
  },
  {
   "cell_type": "markdown",
   "id": "e732e911",
   "metadata": {},
   "source": [
    "## Unir dos listas y repetir los elementos de una lista"
   ]
  },
  {
   "cell_type": "markdown",
   "id": "6a05e15b",
   "metadata": {},
   "source": [
    "Podemos unir dos listas haciendo una \"suma\" (+) de ellas. Podemos repetir elementos de una lista utilizando la multiplicación."
   ]
  },
  {
   "cell_type": "code",
   "execution_count": 2,
   "id": "2c40599b",
   "metadata": {},
   "outputs": [
    {
     "name": "stdout",
     "output_type": "stream",
     "text": [
      "La lista 1 es:  [3, 4, 2]\n",
      "La lista 2 es:  [9, 5, 6]\n",
      "La union de ambas listas es:  [3, 4, 2, 9, 5, 6]\n",
      "La lista que contiene los elementos de lista 1 repetidos 3 veces es:  [3, 4, 2, 3, 4, 2, 3, 4, 2]\n"
     ]
    }
   ],
   "source": [
    "lista1 = [3,4,2]                           # Se crea una lista con 3, 4 y 2\n",
    "lista2 = [9,5,6]                           # Se crea una lista con 9, 5 y 6\n",
    "print(\"La lista 1 es: \", lista1)\n",
    "print(\"La lista 2 es: \", lista2)\n",
    "lista3 = lista1 + lista2                   # Se obtiene la union de ambas listas\n",
    "print(\"La union de ambas listas es: \", lista3)\n",
    "lista4 = lista1 * 3                        # Se repiten 3 veces los elementos de lista 1\n",
    "print(\"La lista que contiene los elementos de lista 1 repetidos 3 veces es: \", lista4)"
   ]
  },
  {
   "cell_type": "markdown",
   "id": "cc03403f",
   "metadata": {},
   "source": [
    "## Acceder a un elemento específico de una lista"
   ]
  },
  {
   "cell_type": "markdown",
   "id": "0b601360",
   "metadata": {},
   "source": [
    "Para acceder a un elemento de una lista, podemos utilizar **nombre_lista[x]**, donde **nombre_lista** corresponde a la variable que contiene a la lista y **x** corresponde a la posición del elemento al que queremos acceder."
   ]
  },
  {
   "cell_type": "code",
   "execution_count": 3,
   "id": "9c53033f",
   "metadata": {},
   "outputs": [
    {
     "name": "stdout",
     "output_type": "stream",
     "text": [
      "La lista es:  [3, 4, 2]\n",
      "Accediendo al segundo elemento de la posicion 1 de la lista:  4\n"
     ]
    }
   ],
   "source": [
    "lista = [3,4,2]                        # Se crea una lista con 3, 4 y 2\n",
    "print(\"La lista es: \", lista)\n",
    "elemento = lista[1]                    # Se accede al elemento de la posicion 1 de la lista (4)\n",
    "print(\"Accediendo al segundo elemento de la posicion 1 de la lista: \", elemento)"
   ]
  },
  {
   "cell_type": "markdown",
   "id": "1040bb82",
   "metadata": {},
   "source": [
    "## Modificar un elemento específico de una lista"
   ]
  },
  {
   "cell_type": "markdown",
   "id": "af7fdb8d",
   "metadata": {},
   "source": [
    "Para modificar un elemento especifico de una lista, podemos utilizar la forma anterior de acceder a un elemento especifico de una lista, pero esta vez igualando al elemento al que queremos que se modifique."
   ]
  },
  {
   "cell_type": "code",
   "execution_count": 4,
   "id": "b2fce859",
   "metadata": {},
   "outputs": [
    {
     "name": "stdout",
     "output_type": "stream",
     "text": [
      "La lista es:  [3, 4, 2]\n",
      "Accediendo al segundo elemento de la posicion 1 de la lista:  4\n",
      "La lista modificada es:  [3, 99, 2]\n",
      "Accediendo al segundo elemento de la posicion 1 de la lista:  99\n"
     ]
    }
   ],
   "source": [
    "lista = [3,4,2]                        # Se crea una lista con 3, 4 y 2\n",
    "print(\"La lista es: \", lista)\n",
    "elemento = lista[1]                    # Se accede al elemento de la posicion 1 de la lista (4)\n",
    "print(\"Accediendo al segundo elemento de la posicion 1 de la lista: \", elemento)\n",
    "lista[1] = 99\n",
    "print(\"La lista modificada es: \", lista)\n",
    "elemento = lista[1]                    # Se accede al elemento de la posicion 1 de la lista (99)\n",
    "print(\"Accediendo al segundo elemento de la posicion 1 de la lista: \", elemento)"
   ]
  },
  {
   "cell_type": "markdown",
   "id": "4801c7b7",
   "metadata": {},
   "source": [
    "## **Agregar elementos a una lista**\n",
    "\n",
    "Podemos utilizar el método **nombre_lista.append(x)** para agregar un elemento a una lista, donde **nombre_lista** es el nombre de la variable que contiene a la lista y **x** es el elemento que queremos agregar a la lista. **Append** agrega el elemento automáticamente al final de la lista (O en otras palabras, en la última posición)"
   ]
  },
  {
   "cell_type": "code",
   "execution_count": 5,
   "id": "d216f700",
   "metadata": {},
   "outputs": [
    {
     "name": "stdout",
     "output_type": "stream",
     "text": [
      "La lista inicial es:  []\n",
      "La lista luego del primer append es:  [2]\n",
      "La lista luego del segundo append es:  [2, 3]\n"
     ]
    }
   ],
   "source": [
    "# Utilizamos .append() para agregar elementos a una lista\n",
    "\n",
    "lista = []                            # Utilizamos [] para definir una lista vacia\n",
    "print(\"La lista inicial es: \", lista)\n",
    "lista.append(2)                       # Agregamos el numero 2 a la lista\n",
    "print(\"La lista luego del primer append es: \", lista)\n",
    "lista.append(3)                       # Agregamos el numero 3 a la lista\n",
    "print(\"La lista luego del segundo append es: \", lista)"
   ]
  },
  {
   "cell_type": "markdown",
   "id": "c1b74044",
   "metadata": {},
   "source": [
    "También podemos utilizar el método **nombre_lista.insert(x,y)**, donde **nombre_lista** es el nombre de la variable que contiene la lista, **x** es la posición de la lista donde se quiere agregar un elemento e **y** corresponde al elemento a agregar."
   ]
  },
  {
   "cell_type": "code",
   "execution_count": 6,
   "id": "7c41f2be",
   "metadata": {},
   "outputs": [
    {
     "name": "stdout",
     "output_type": "stream",
     "text": [
      "Lista antes de insert [3, 4, 2]\n",
      "Lista despues de insert [3, 4, 10, 2]\n"
     ]
    }
   ],
   "source": [
    "lista = [3,4,2]                             # Se define una lista con 3, 4 y 2\n",
    "print(\"Lista antes de insert\", lista)\n",
    "lista.insert(2, 10)                         # Se agrega un 10 en la penultima posicion de la lista\n",
    "print(\"Lista despues de insert\", lista)"
   ]
  },
  {
   "cell_type": "markdown",
   "id": "7764f897",
   "metadata": {},
   "source": [
    "Notemos que con estas operaciones y la gran mayoría de las que vienen a continuación, no es necesario igualar a una nueva variable. Una vez se ejecuta la línea de código, Python hace el cambio dentro de la variable original!"
   ]
  },
  {
   "cell_type": "markdown",
   "id": "896b6d99",
   "metadata": {},
   "source": [
    "## **Quitar elementos de una lista**\n",
    "\n",
    "El método **nombre_lista.remove(x)** nos permite eliminar un elemento de una lista, donde **nombre_lista** es el nombre de la variable que contiene a la lista y **x** es el elemento a eliminar de la lista. **Remove** elimina solamente la primera instancia que encuentre de un elemento, por lo que no elimina todas las instancias inmediatamente!"
   ]
  },
  {
   "cell_type": "code",
   "execution_count": 7,
   "id": "337ef38d",
   "metadata": {},
   "outputs": [
    {
     "name": "stdout",
     "output_type": "stream",
     "text": [
      "Lista antes de los remove [3, 4, 2, 3, 4, 2]\n",
      "Lista luego del primer remove [4, 2, 3, 4, 2]\n",
      "Lista luego del segundo remove [4, 2, 4, 2]\n"
     ]
    }
   ],
   "source": [
    "lista = [3,4,2,3,4,2]                          # Se define una lista con 3, 4, 2, 3, 4 y 2\n",
    "print(\"Lista antes de los remove\", lista)\n",
    "lista.remove(3)                                # Se elimina el primer 3\n",
    "print(\"Lista luego del primer remove\", lista)\n",
    "lista.remove(3)                                # Se elimina el segundo 3\n",
    "print(\"Lista luego del segundo remove\", lista)"
   ]
  },
  {
   "cell_type": "markdown",
   "id": "89b7506f",
   "metadata": {},
   "source": [
    "También podemos utilizar el método **nombre_lista.pop(x)**, donde **nombre_lista** es el nombre de la variable que contiene a la lista y **x** es la posición del elemento que se quiere eliminar. **Si no se especifica un x, elimina al último elemento de la lista.**"
   ]
  },
  {
   "cell_type": "code",
   "execution_count": 8,
   "id": "43209766",
   "metadata": {},
   "outputs": [
    {
     "name": "stdout",
     "output_type": "stream",
     "text": [
      "Lista antes de los pop [3, 4, 5, 2, 3]\n",
      "Lista luego del primer pop (Elimina el último 3) [3, 4, 5, 2]\n",
      "Lista luego del segundo pop (Elimina el 2) [3, 4, 5]\n"
     ]
    }
   ],
   "source": [
    "lista = [3,4,5,2,3]                          # Se crea una lista con 3, 4, 5, 2 y 3\n",
    "print(\"Lista antes de los pop\", lista)\n",
    "lista.pop()                                  # Se elimina el ultimo elemento de la lista (3)\n",
    "print(\"Lista luego del primer pop (Elimina el último 3)\", lista)\n",
    "lista.pop(3)                                 # Se elimina el elemento de la posicion 3 (2)\n",
    "print(\"Lista luego del segundo pop (Elimina el 2)\", lista)"
   ]
  },
  {
   "cell_type": "markdown",
   "id": "c530e31d",
   "metadata": {},
   "source": [
    "## **Contar cuantas veces se repite un elemento de una lista**"
   ]
  },
  {
   "cell_type": "markdown",
   "id": "f40b931a",
   "metadata": {},
   "source": [
    "Para contar cuantas veces se repite un elemento en una lista, podemos utilizar el método **nombre_lista.count(x)**, donde **nombre_lista** es el nombre de la variable que contiene a la lista y x es el elemento que queremos saber cuántas veces se repite dentro de la lista"
   ]
  },
  {
   "cell_type": "code",
   "execution_count": 9,
   "id": "06716ef8",
   "metadata": {},
   "outputs": [
    {
     "name": "stdout",
     "output_type": "stream",
     "text": [
      "La lista es:  [3, 4, 2, 2, 2, 2, 2, 2, 1]\n",
      "Veces que se repite el 3:  1\n",
      "Veces que se repite el 2:  6\n"
     ]
    }
   ],
   "source": [
    "lista = [3,4,2,2,2,2,2,2,1]                    # Se crea una lista con 3, 4, 2, 2, 2, 2, 2, 2 y 1\n",
    "print(\"La lista es: \", lista)\n",
    "contador = lista.count(3)                      # Se cuenta las veces que se repite el 3\n",
    "print(\"Veces que se repite el 3: \", contador)\n",
    "contador = lista.count(2)                      # Se cuenta las veces que se repite el 2\n",
    "print(\"Veces que se repite el 2: \", contador)"
   ]
  },
  {
   "cell_type": "markdown",
   "id": "2e5da93c",
   "metadata": {},
   "source": [
    "## Obtener la posición de un elemento de una lista"
   ]
  },
  {
   "cell_type": "markdown",
   "id": "608405fc",
   "metadata": {},
   "source": [
    "Podemos utilizar el método **nombre_lista.index(x)** para obtener la posición de un elemento de una lista, donde **nombre_lista** es el nombre de la variable que contiene a la lista y **x** es el elemento al cual le queremos averiguar la posición dentro de la lista. Si un elemento se repite, entonces entrega la primera posición donde se encuentra el elemento."
   ]
  },
  {
   "cell_type": "code",
   "execution_count": 10,
   "id": "1676dc1c",
   "metadata": {},
   "outputs": [
    {
     "name": "stdout",
     "output_type": "stream",
     "text": [
      "La lista es: [3, 4, 2, 4, 2]\n",
      "Posicion de el 2 en la lista: 2\n"
     ]
    }
   ],
   "source": [
    "lista = [3,4,2,4,2]                             # Se crea una lista con 3, 4, 2, 4 y 2\n",
    "print(\"La lista es:\", lista)\n",
    "posicion = lista.index(2)                       # Se obtiene la posicion del primer 2 (2)\n",
    "print(\"Posicion de el 2 en la lista:\", posicion)"
   ]
  },
  {
   "cell_type": "markdown",
   "id": "944d9c53",
   "metadata": {},
   "source": [
    "##  Ordenar una lista, obtener su máximo, su mínimo y la suma de elementos"
   ]
  },
  {
   "cell_type": "markdown",
   "id": "753a4c13",
   "metadata": {},
   "source": [
    "Podemos ordenar una lista de elementos utilizando el método **nombre_lista.sort()**, donde **nombre_lista** es el nombre de la variable que contiene a la lista. Además, podemos utilizar las funciones **max(nombre_lista)**, **min(nombre_lista)** y **sum(nombre_lista)** para poder obtener el máximo, mínimo y la suma de elementos correspondientes de una lista."
   ]
  },
  {
   "cell_type": "code",
   "execution_count": 11,
   "id": "97965a43",
   "metadata": {},
   "outputs": [
    {
     "name": "stdout",
     "output_type": "stream",
     "text": [
      "La lista original es:  [9, 6, 3, 1, 2]\n",
      "La lista ordenada de menor a mayor es:  [1, 2, 3, 6, 9]\n",
      "El máximo número de la lista es:  9\n",
      "El minimo numero de la lista es:  1\n",
      "La suma de los elementos de la lista es:  21\n"
     ]
    }
   ],
   "source": [
    "lista = [9,6,3,1,2]                                     # Se crea una lista con 9, 6, 3, 1 y 2\n",
    "print(\"La lista original es: \", lista)\n",
    "lista.sort()                                            # Se ordena la lista utilizando sort()\n",
    "print(\"La lista ordenada de menor a mayor es: \", lista)\n",
    "maximo = max(lista)                                     # Se obtiene el máximo de la lista\n",
    "print(\"El máximo número de la lista es: \", maximo)\n",
    "minimo = min(lista)                                     # Se obtiene el minimo de la lista\n",
    "print(\"El minimo numero de la lista es: \", minimo)\n",
    "suma = sum(lista)                                       # Se obtiene la suma de los elementos de la lista\n",
    "print(\"La suma de los elementos de la lista es: \", suma)"
   ]
  },
  {
   "cell_type": "markdown",
   "id": "20dbc6e1",
   "metadata": {},
   "source": [
    "# Strings en Python"
   ]
  },
  {
   "attachments": {
    "imagen_2022-10-19_185338933.png": {
     "image/png": "[encoded data removed]"
    }
   },
   "cell_type": "markdown",
   "id": "a47b81d8",
   "metadata": {},
   "source": [
    "Los Strings corresponden a caracteres o cadenas de textos. En palabras simples, son letras o palabras. Se escriben utilizando comillas dobles o comillas simples. Comparten algunas características con las listas. También se cuentan desde 0 hasta **n-1** elementos y podemos obtener el largo del string utilizando **len(nombre_string)**, donde **nombre_string** es el nombre de la variable que contiene al string. \n",
    "\n",
    "![imagen_2022-10-19_185338933.png](attachment:imagen_2022-10-19_185338933.png)"
   ]
  },
  {
   "cell_type": "markdown",
   "id": "c7ca0afd",
   "metadata": {},
   "source": [
    "## Unir dos strings"
   ]
  },
  {
   "cell_type": "markdown",
   "id": "b8a90f7c",
   "metadata": {},
   "source": [
    "Similar a las listas, podemos utilizar la suma para unir dos strings. Los strings se unen exactamente en la última y primera posición del primer y segundo string respectivamente."
   ]
  },
  {
   "cell_type": "code",
   "execution_count": 12,
   "id": "9d3c3a68",
   "metadata": {},
   "outputs": [
    {
     "name": "stdout",
     "output_type": "stream",
     "text": [
      "El primer string es:  hola \n",
      "El segundo string es:  mundo\n",
      "La union de ambos strings es:  hola mundo\n"
     ]
    }
   ],
   "source": [
    "string1 = \"hola \"                          # Se crea el string \"hola \"\n",
    "print(\"El primer string es: \", string1)\n",
    "string2 = \"mundo\"                          # Se crea el string \"mundo\"\n",
    "print(\"El segundo string es: \", string2)\n",
    "union = string1 + string2                  # Se crea la union de ambos strings ()\"hola mundo\")\n",
    "print(\"La union de ambos strings es: \", union)"
   ]
  },
  {
   "cell_type": "markdown",
   "id": "5ae2a974",
   "metadata": {},
   "source": [
    "Nótese que en el primer string el último elemento es un espacio para que asi haya una separación entre hola y mundo. De lo contrario, el resultado hubiera sido **holamundo** (Sin el espacio entremedio)"
   ]
  },
  {
   "cell_type": "markdown",
   "id": "a3e06503",
   "metadata": {},
   "source": [
    "## Repetir un string"
   ]
  },
  {
   "cell_type": "markdown",
   "id": "613a299d",
   "metadata": {},
   "source": [
    "Similar a las listas, utilizando la multiplicación, podemos repetir un string x veces."
   ]
  },
  {
   "cell_type": "code",
   "execution_count": 13,
   "id": "d30b0f6c",
   "metadata": {},
   "outputs": [
    {
     "name": "stdout",
     "output_type": "stream",
     "text": [
      "El string original es:  hola!\n",
      "El string repetido 5 veces es:  hola!hola!hola!hola!hola!\n"
     ]
    }
   ],
   "source": [
    "string1 = \"hola!\"                   # Se crea el string \"hola!\"\n",
    "string2 = string1 * 5               # Se repite el string \"hola!\" 5 veces.\n",
    "print(\"El string original es: \", string1)\n",
    "print(\"El string repetido 5 veces es: \", string2)"
   ]
  },
  {
   "cell_type": "markdown",
   "id": "775aa0a0",
   "metadata": {},
   "source": [
    "## Acceder a un elemento específico de un string"
   ]
  },
  {
   "cell_type": "markdown",
   "id": "99534e7a",
   "metadata": {},
   "source": [
    "Similar a las listas, podemos acceder a un elemento especifico de un string utilizando la forma **nombre_string[x]**, donde **nombre_string** es el nombre de la variable que contiene al string y **x** es la posición del elemento al que se quiere acceder."
   ]
  },
  {
   "cell_type": "code",
   "execution_count": 14,
   "id": "318280f5",
   "metadata": {},
   "outputs": [
    {
     "name": "stdout",
     "output_type": "stream",
     "text": [
      "El string original es:  hola mundo\n",
      "El elemento en la posicion 5 del string es:  m\n"
     ]
    }
   ],
   "source": [
    "string1 = \"hola mundo\"              # Se crea el string \"hola mundo\"\n",
    "elemento = string1[5]               # Se accede al elemento de la posicion 5 del string (\"m\")\n",
    "print(\"El string original es: \", string1)\n",
    "print(\"El elemento en la posicion 5 del string es: \", elemento)"
   ]
  },
  {
   "cell_type": "markdown",
   "id": "f1d8f95a",
   "metadata": {},
   "source": [
    "**A diferencias de las listas, no podemos utilizar lo anterior para modificar un elemento especifico de una lista. Una alternativa a eso es transformar el string a lista y luego transformarlo a String, algo que se mostrará más adelante**"
   ]
  },
  {
   "cell_type": "markdown",
   "id": "fda32495",
   "metadata": {},
   "source": [
    "## Transformar el string a minúsculas o a mayúsculas"
   ]
  },
  {
   "cell_type": "markdown",
   "id": "0736a6af",
   "metadata": {},
   "source": [
    "Podemos utilizar los métodos **nombre_string.lower()** o **nombre_string.upper()** si queremos transformar el string a minúsculas o a mayúsculas. **nombre_string** corresponde al nombre de la variable que contiene el string."
   ]
  },
  {
   "cell_type": "code",
   "execution_count": 15,
   "id": "b2c5fe89",
   "metadata": {},
   "outputs": [
    {
     "name": "stdout",
     "output_type": "stream",
     "text": [
      "El string original es: Touhou SCARLET weather RhApSoDy\n",
      "El string con el metodo upper es:  TOUHOU SCARLET WEATHER RHAPSODY\n",
      "El string con el metodo lower es:  touhou scarlet weather rhapsody\n"
     ]
    }
   ],
   "source": [
    "string1 = \"Touhou SCARLET weather RhApSoDy\"                  # Se crea el string \"Touhou SCARLET weather RhApSoDy\" \n",
    "print(\"El string original es:\", string1)\n",
    "print(\"El string con el metodo upper es: \", string1.upper()) # Se obtiene el string \"TOUHOU SCARLET WEATHER RHAPSODY\" \n",
    "print(\"El string con el metodo lower es: \", string1.lower()) # Se obtiene el string \"touhou scarlet weather rhapsody\""
   ]
  },
  {
   "cell_type": "markdown",
   "id": "f3045a9f",
   "metadata": {},
   "source": [
    "## Eliminar espacios y saltos de línea de un string"
   ]
  },
  {
   "cell_type": "markdown",
   "id": "4fd80359",
   "metadata": {},
   "source": [
    "Podemos utilizar el método **nombre_string.strip()** para eliminar los saltos de línea (**\\n**) o los espacios al inicio y al final de un string."
   ]
  },
  {
   "cell_type": "code",
   "execution_count": 16,
   "id": "9151c745",
   "metadata": {},
   "outputs": [
    {
     "name": "stdout",
     "output_type": "stream",
     "text": [
      "El string original es:      Plus    Ultra   \n",
      "\n",
      "El string modificado con strip es:  Plus    Ultra\n"
     ]
    }
   ],
   "source": [
    "string1 = \"    Plus    Ultra   \\n\"                  # Se crea el string \"    Plus    Ultra   \\n\"\n",
    "print(\"El string original es: \", string1)\n",
    "string2 = string1.strip()                           # Se obtiene el string \"Plus    Ultra\"\n",
    "print(\"El string modificado con strip es: \", string2)"
   ]
  },
  {
   "cell_type": "markdown",
   "id": "535e1686",
   "metadata": {},
   "source": [
    "Nótemos que **si es necesario guardar el resultado de strip en una nueva variable!**"
   ]
  },
  {
   "cell_type": "markdown",
   "id": "a05bad85",
   "metadata": {},
   "source": [
    "## Algunas verificaciones importantes con Strings"
   ]
  },
  {
   "cell_type": "markdown",
   "id": "3ebedf4e",
   "metadata": {},
   "source": [
    "* **nombre_string.isupper()**: Retorna verdadero si un String está solo compuesto por mayúsculas. Falso en caso contrario.\n",
    "* **nombre_string.islower()**: Retorna verdadero si un String está solo compuesto por minúsculas. Falso en caso contrario.\n",
    "* **nombre_string.isalpha()**: Retorna verdadero si un String está solo compuesto por letras y/o caracteres (Sin números). Falso en caso contrario\n",
    "* **nombre_string.isdigit()**: Retorna verdadero si un String está solo compuesto por números (dígitos). Falso en caso contrario"
   ]
  },
  {
   "cell_type": "markdown",
   "id": "8c53b20d",
   "metadata": {},
   "source": [
    "# Consultas y Dudas que han tenido trabajando con Strings y Listas"
   ]
  },
  {
   "cell_type": "markdown",
   "id": "5b9aa58e",
   "metadata": {},
   "source": [
    "## 1. ¿Como transformo un string a una lista?"
   ]
  },
  {
   "cell_type": "markdown",
   "id": "190b21ee",
   "metadata": {},
   "source": [
    "Para esto podemos utilizar el método **nombre_lista.split(x)**, donde **nombre_string** es el nombre de la variable que contiene el string y **x** es el elemento donde se quiere que se separen los elementos para transformarlos a elementos de una lista. Si no se especifica un x, entonces se consideran los espacios como el elemento separador."
   ]
  },
  {
   "cell_type": "code",
   "execution_count": 17,
   "id": "511782a9",
   "metadata": {},
   "outputs": [
    {
     "name": "stdout",
     "output_type": "stream",
     "text": [
      "El string 1 original es:  hola mundo\n",
      "El string 1 transformado a lista es:  ['hola', 'mundo']\n",
      "El string 1 original es:  19/10/2022\n",
      "El string 1 transformado a lista es:  ['19', '10', '2022']\n"
     ]
    }
   ],
   "source": [
    "string1 = \"hola mundo\"                                # Se crea el string \"hola mundo\"\n",
    "lista = string1.split()                               # Se transforma el string a lista, separando los elementos por \" \"\n",
    "print(\"El string 1 original es: \", string1)\n",
    "print(\"El string 1 transformado a lista es: \", lista)\n",
    "\n",
    "string2 = \"19/10/2022\"                                # Se crea el string \"19/10/2022\"\n",
    "lista2 = string2.split(\"/\")                           # Se transforma el string a lista, separando los elementos por \"/\"\n",
    "print(\"El string 1 original es: \", string2)\n",
    "print(\"El string 1 transformado a lista es: \", lista2)"
   ]
  },
  {
   "cell_type": "markdown",
   "id": "8996a427",
   "metadata": {},
   "source": [
    "## 2. ¿Como transformo una lista a un string?"
   ]
  },
  {
   "cell_type": "markdown",
   "id": "bfe05ba4",
   "metadata": {},
   "source": [
    "Para esto podemos utilizar el método **elemento.join(nombre_lista)**, donde **elemento** es un elemento que se unirá con cada elemento de la lista y **nombre_lista** es el nombre de la variable que contiene a la lista"
   ]
  },
  {
   "cell_type": "code",
   "execution_count": 18,
   "id": "118f06a8",
   "metadata": {},
   "outputs": [
    {
     "name": "stdout",
     "output_type": "stream",
     "text": [
      "La lista original es:  ['hola ', 'como ', 'estas']\n",
      "La lista transformada a string es:  hola como estas\n"
     ]
    }
   ],
   "source": [
    "lista1 = [\"hola \" , \"como \", \"estas\"]             # Se crea una lista con \"hola \", \"como \", \"estas\"\n",
    "string1 = \"\".join(lista1)                         # Se transforma la lista a string\n",
    "print(\"La lista original es: \", lista1)\n",
    "print(\"La lista transformada a string es: \", string1)"
   ]
  },
  {
   "cell_type": "markdown",
   "id": "073558d1",
   "metadata": {},
   "source": [
    "## 3. ¿Para que funciona el eval()?"
   ]
  },
  {
   "cell_type": "markdown",
   "id": "55170e11",
   "metadata": {},
   "source": [
    "**eval()** funciona para que Python pueda identificar mediante como está escrita una entrada a que tipo de dato corresponde el elemento ingresado. Esto es esencial si queremos ingresar listas por entradas y ahorrarnos posibles problemas al transformar de strings a listas."
   ]
  },
  {
   "cell_type": "code",
   "execution_count": 19,
   "id": "0d81bdf3",
   "metadata": {},
   "outputs": [
    {
     "name": "stdout",
     "output_type": "stream",
     "text": [
      "Ingrese un elemento: [\"Python\", \"C\", \"Java\"]\n",
      "El tipo de dato de la entrada es:  <class 'list'>\n"
     ]
    }
   ],
   "source": [
    "entrada1 = eval(input(\"Ingrese un elemento: \"))             # Se pido que se ingrese un elemento por teclado\n",
    "print(\"El tipo de dato de la entrada es: \", type(entrada1))"
   ]
  },
  {
   "cell_type": "markdown",
   "id": "746d0f0e",
   "metadata": {},
   "source": [
    "**Como Python ve que el elemento ingresado está escrito con paréntesis cuadrados al inicio y al final del elemento y además de que tenemos elementos separados por coma (,), entonces inmediatamente sabe que se trata de una lista y eval() retorna la lista escrita tal cual como la ingresamos**."
   ]
  },
  {
   "cell_type": "markdown",
   "id": "a83981d5",
   "metadata": {},
   "source": [
    "## 4. **¿Que son las \"banderas\" (flags) y como funcionan?**"
   ]
  },
  {
   "cell_type": "markdown",
   "id": "d4677dc7",
   "metadata": {},
   "source": [
    "Las banderas (o flags, como se le puede encontrar en algunos códigos) son solamente variables de tipo Booleano. Usualmente parten con un valor y a medida que se va ejecutando el código cambian a otro valor (Se sube o se baja la \"bandera\", dependiendo si es True o False. Por eso se les llama como bandera)."
   ]
  },
  {
   "cell_type": "code",
   "execution_count": 21,
   "id": "b16a7d03",
   "metadata": {},
   "outputs": [
    {
     "name": "stdout",
     "output_type": "stream",
     "text": [
      "Ingrese una lista por entrada: [1,3,5,6,11,4,5,677,3,2,1,6,3,13]\n",
      "Se pudo encontrar el numero dos\n"
     ]
    }
   ],
   "source": [
    "lista = eval(input(\"Ingrese una lista por entrada: \")) # Se pide que se ingrese un elemento por teclado\n",
    "flag_dos = False                                       # Declaramos una flag (Variable booleana) inicializada en False\n",
    "i = 0                                                  # Se declara un contador para recorrer\n",
    "while i < len(lista):                                  # Mientras i sea menor al largo de la lista\n",
    "    elemento_actual = lista[i]                         # Se obtiene el elemento en la posicion i de la lista\n",
    "    if elemento_actual == 2:                           # Si el elemento es igual a 2\n",
    "        flag_dos = True                                # La bandera se vuelve verdadera\n",
    "    i += 1                                             # Se aumenta i para que continue el ciclo While\n",
    "\n",
    "if(flag_dos):                                          # Si se encontro 2\n",
    "    print(\"Se pudo encontrar el numero dos\")\n",
    "else:                                                  # Si no se encontro 2\n",
    "    print(\"No se encontro el numero dos\")"
   ]
  },
  {
   "cell_type": "markdown",
   "id": "c2117afe",
   "metadata": {},
   "source": [
    "**Como podemos observar en el código anterior, la bandera comienza con el valor Falso y luego cuando se encuentra el número dos, cambia a verdadero. Es ahí donde \"se sube la bandera\". Flag, o Bandera, no es nada más que un nombre a como usualmente se le conocen a estas variables Booleanas. Pero debemos no asustarnos y considerar que solo son Variables que tiene el valor True o False inicialmente y que luego en algún punto del programa, cambian de valor. Nada más, y nada menos.**"
   ]
  },
  {
   "cell_type": "code",
   "execution_count": null,
   "id": "436f1aba",
   "metadata": {},
   "outputs": [],
   "source": []
  }
 ],
 "metadata": {
  "kernelspec": {
   "display_name": "Python 3 (ipykernel)",
   "language": "python",
   "name": "python3"
  },
  "language_info": {
   "codemirror_mode": {
    "name": "ipython",
    "version": 3
   },
   "file_extension": ".py",
   "mimetype": "text/x-python",
   "name": "python",
   "nbconvert_exporter": "python",
   "pygments_lexer": "ipython3",
   "version": "3.9.7"
  }
 },
 "nbformat": 4,
 "nbformat_minor": 5
}
