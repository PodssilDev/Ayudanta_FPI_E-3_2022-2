{
 "cells": [
  {
   "cell_type": "markdown",
   "id": "ddd9a12d",
   "metadata": {},
   "source": [
    "\n",
    "<h1><center>Ayudantía 5: Recursión</center></h1>"
   ]
  },
  {
   "cell_type": "markdown",
   "id": "ecc2f291",
   "metadata": {},
   "source": [
    "<center> <b>Fundamentos de Programación - Sección E-3</b> </center>"
   ]
  },
  {
   "cell_type": "markdown",
   "id": "f4289872",
   "metadata": {},
   "source": [
    "**Profesor:**  Cristian Sepúlveda - cristian.sepulvedas@usach.cl \n",
    "    <br>\n",
    "**Ayudante:**  John Serrano - john.serrano@usach.cl"
   ]
  },
  {
   "cell_type": "markdown",
   "id": "6bd1d8f2",
   "metadata": {},
   "source": [
    "# ¿Que es recursión?"
   ]
  },
  {
   "cell_type": "markdown",
   "id": "8a64ad8a",
   "metadata": {},
   "source": [
    "<center> <i>Si quieres saber lo que es recursión... puedes debes entender recursión</i> </center>"
   ]
  },
  {
   "cell_type": "markdown",
   "id": "d1f04b62",
   "metadata": {},
   "source": [
    "Recursión es practicamente una nueva forma de hacer ciclos utilizando funciones. Consiste en que practicamente, una función se llama a si misma, con algún cambio en sus parametros. Esto se realiza para ir achicando el problema hasta un problema mas conocido y usualmente se utiliza en problemas donde se debe repetir un mismo cálculo varias veces. Tenemos dos casos en una función recursiva:\n",
    "* Caso Base: Consiste en un problema muy pequeño, donde la solución es conocida o \"trivial\". Puede haber mas de un caso base.\n",
    "* Caso Recursivo: Es un problema que depende de la solución de otros problemas mas pequeños. Usualmente hay múltiples casos recursivos."
   ]
  },
  {
   "cell_type": "markdown",
   "id": "d81d12fa",
   "metadata": {},
   "source": [
    "# Ejemplo 1: La Sumatoria"
   ]
  },
  {
   "cell_type": "markdown",
   "id": "89be903c",
   "metadata": {},
   "source": [
    "Considerando la sumatoria de los primeros 100 terminos, se busca sumar los 100 primeros terminos. Se debe resolver una pequeña parte del ejercicio y dejar el resto en las mismas palabras del ejercicio original. Sabemos que:\n"
   ]
  },
  {
   "cell_type": "markdown",
   "id": "d0be2907",
   "metadata": {},
   "source": [
    "$$\\sum_{i = 1}^{100}i = 100 + \\sum_{i = 1}^{99}i$$\n",
    "Pero sabemos que la sumatoria de los primeros 99 terminos es:\n",
    "$$\\sum_{i = 1}^{99}i = 99 + \\sum_{i = 1}^{98}i$$"
   ]
  },
  {
   "cell_type": "markdown",
   "id": "1db81c2b",
   "metadata": {},
   "source": [
    "Notemos que los casos anteriores corresponden a **casos recursivos**, ya que la solución va dependiendo de la solución de problemas chicos (la sumatoria de 100 depende de la sumatoria de 99. La sumatoria de 99 depende de la sumatoria de 98, etc)."
   ]
  },
  {
   "cell_type": "markdown",
   "id": "679ffea6",
   "metadata": {},
   "source": [
    "Entonces, ¿cuales seria el **caso base**? Pues como corresponden a problemas cuya solución es conocida, siguiendo con el ejemplo de las sumatorias, sabemos que la sumatoria de 1 es simplemente 1."
   ]
  },
  {
   "cell_type": "markdown",
   "id": "f6b64a5a",
   "metadata": {},
   "source": [
    "$$\\sum_{i = 1}^{1}i = 1$$"
   ]
  },
  {
   "cell_type": "markdown",
   "id": "a175ede9",
   "metadata": {},
   "source": [
    "Por lo tanto, todo lo anterior se traduce a lo siguiente:"
   ]
  },
  {
   "cell_type": "markdown",
   "id": "ac687a35",
   "metadata": {},
   "source": [
    "* Si i > 1, entonces la sumatoria de i terminos es es: i + la sumatoria de (i-1)\n",
    "* Si i == 1, entonces la sumatoria de i es 1."
   ]
  },
  {
   "cell_type": "markdown",
   "id": "eaea5a9a",
   "metadata": {},
   "source": [
    "Lo anterior corresponde a la **ecuación de recurrencia**. Llevando esto a un código de Python:\n",
    "    "
   ]
  },
  {
   "cell_type": "code",
   "execution_count": 1,
   "id": "8ebff2ad",
   "metadata": {},
   "outputs": [
    {
     "name": "stdout",
     "output_type": "stream",
     "text": [
      "Ingrese un numero entero mayor o igual a 1: 100\n",
      "El resultado de la sumatoria de 100 terminos es:  5050\n"
     ]
    }
   ],
   "source": [
    "# BLOQUE DE DEFINICIONES\n",
    "# DEFINICION DE FUNCIONES\n",
    "\n",
    "'''\n",
    "Entrada: Un numero entero (Integer) mayor o igual a 1\n",
    "Salida: La sumatoria de los i terminos\n",
    "Descripcion: Funcion recursiva que calcula la sumatoria de i terminos, cuando\n",
    "el indice inicial es igual a 1.\n",
    "'''\n",
    "def sumatoria(i):\n",
    "    if i == 1:\n",
    "        return 1 # CASO BASE\n",
    "    elif i == 0:\n",
    "        return 0\n",
    "    else:\n",
    "        return i + sumatoria(i-1)  # CASO RECURSIVO\n",
    "\n",
    "\n",
    "# BLOQUE PRINCIPAL\n",
    "# ENTRADA\n",
    "numero = int(input(\"Ingrese un numero entero mayor o igual a 1: \"))\n",
    "\n",
    "# PROCESAMIENTO\n",
    "resultado_sumatoria = sumatoria(numero)\n",
    "\n",
    "# SALIDA\n",
    "print(\"El resultado de la sumatoria de\", numero, \"terminos es: \", resultado_sumatoria)"
   ]
  },
  {
   "cell_type": "markdown",
   "id": "064f28d6",
   "metadata": {},
   "source": [
    "Hay ejercicios que son más faciles resolviendolos con recursión. Otros, son mas faciles con iteraciones (Ciclo While). Todo va a depender del contexto del problema y de lo que nos soliciten. **Para la PEP, pueden solicitar utilizar recursión, o bien resolver tanto con iteraciones y con recursión.**"
   ]
  },
  {
   "cell_type": "markdown",
   "id": "02b803f8",
   "metadata": {},
   "source": [
    "## Precaución: Error de Stack / RecursionError"
   ]
  },
  {
   "cell_type": "markdown",
   "id": "73e75f06",
   "metadata": {},
   "source": [
    "Si bien la recursión es una buena herramienta, debemos tener cuidado con el uso de esta, ya que si no sabemos utilizarla bien, nuestra función no está muy bien definida o introducimos las entradas incorrectamente, podemos obtener como resultado un error de stack. Esto sucede cuando se realizan muchas llamadas recursivas y la memoria (Stack) se llena, a tal punto que es imposible continuar con la ejecución del código."
   ]
  },
  {
   "attachments": {
    "image.png": {
     "image/png": "[encoded data removed]"
    }
   },
   "cell_type": "markdown",
   "id": "eb81a222",
   "metadata": {},
   "source": [
    "![image.png](attachment:image.png)"
   ]
  },
  {
   "cell_type": "markdown",
   "id": "15222a9f",
   "metadata": {},
   "source": [
    "# Ejemplo 2: Factorial"
   ]
  },
  {
   "cell_type": "markdown",
   "id": "d72c0104",
   "metadata": {},
   "source": [
    "El factorial se puede definir de la siguiente forma:\n",
    " $$n! = \\left\\{ \\begin{array}{lcc}\n",
    "             1 &   si  & n = 1 \\\\\n",
    "             \\\\ n \\cdot (n-1)! &  si & n \\neq 1\\\\\n",
    "             \\end{array}\n",
    "   \\right.$$"
   ]
  },
  {
   "cell_type": "markdown",
   "id": "4ea06398",
   "metadata": {},
   "source": [
    "En Python, lo anterior es:"
   ]
  },
  {
   "cell_type": "code",
   "execution_count": 2,
   "id": "2fc9d29a",
   "metadata": {},
   "outputs": [
    {
     "name": "stdout",
     "output_type": "stream",
     "text": [
      "Ingrese un numero entero mayor o igual a 1: 5\n",
      "El factorial de 5 es: 120\n"
     ]
    }
   ],
   "source": [
    "# BLOQUE DE DEFINICIONES\n",
    "# DEFINICION DE FUNCIONES\n",
    "\n",
    "'''\n",
    "Entrada: Un numero entero (Integer) mayor o igual a 1\n",
    "Salida: El factorial de n\n",
    "Descripcion: Funcion recursiva que calcula el factorial de n\n",
    "'''\n",
    "def factorial(n):\n",
    "    if n == 1:\n",
    "        return 1 # CASO BASE\n",
    "    else:\n",
    "        return n * factorial(n-1)  # CASO RECURSIVO\n",
    "\n",
    "\n",
    "# BLOQUE PRINCIPAL\n",
    "# ENTRADA\n",
    "numero = int(input(\"Ingrese un numero entero mayor o igual a 1: \"))\n",
    "\n",
    "# PROCESAMIENTO\n",
    "resultado_factorial = factorial(numero)\n",
    "\n",
    "# SALIDA\n",
    "print(\"El factorial de\", numero, \"es:\", resultado_factorial)"
   ]
  },
  {
   "cell_type": "markdown",
   "id": "de244717",
   "metadata": {},
   "source": [
    "<center>El factorial de 5 es:  </center> "
   ]
  },
  {
   "cell_type": "markdown",
   "id": "379d0496",
   "metadata": {},
   "source": [
    "$$5! = 5 \\cdot 4!$$"
   ]
  },
  {
   "cell_type": "markdown",
   "id": "ce9aa029",
   "metadata": {},
   "source": [
    "$$4! = 4 \\cdot 3!$$"
   ]
  },
  {
   "cell_type": "markdown",
   "id": "e63c31b9",
   "metadata": {},
   "source": [
    "$$3! = 3 \\cdot 2!$$"
   ]
  },
  {
   "cell_type": "markdown",
   "id": "e69d518c",
   "metadata": {},
   "source": [
    "$$2! = 2 \\cdot 1!$$"
   ]
  },
  {
   "cell_type": "markdown",
   "id": "52f59631",
   "metadata": {},
   "source": [
    "$$1! = 1$$"
   ]
  },
  {
   "cell_type": "markdown",
   "id": "5e72761c",
   "metadata": {},
   "source": [
    "<center> Como ya llegamos a un caso base, ahora debemos resolver aquellos problemas que quedaron pendientes</center>"
   ]
  },
  {
   "cell_type": "markdown",
   "id": "9c6f963f",
   "metadata": {},
   "source": [
    "$$2! = 2 \\cdot 1! = 2 \\cdot 1 = 2$$"
   ]
  },
  {
   "cell_type": "markdown",
   "id": "db48672f",
   "metadata": {},
   "source": [
    "$$3! = 3 \\cdot 2! = 3 \\cdot 2 = 6$$"
   ]
  },
  {
   "cell_type": "markdown",
   "id": "d7f0d4d8",
   "metadata": {},
   "source": [
    "$$4! = 4 \\cdot 3! = 4 \\cdot 6 = 24$$"
   ]
  },
  {
   "cell_type": "markdown",
   "id": "6387a764",
   "metadata": {},
   "source": [
    "$$5! = 5 \\cdot 4! = 5 \\cdot 24 = 120$$"
   ]
  },
  {
   "cell_type": "markdown",
   "id": "4a981d0d",
   "metadata": {},
   "source": [
    "**Por lo tanto, la recursión consiste en basicamente, ir achicando un problema hasta llegar a problemas conocidos o faciles de resolver y luego devolverse y resolver aquellos problemas grandes que quedaron pendientes y que dependen de la solución de los problemas pequeños.**"
   ]
  },
  {
   "cell_type": "markdown",
   "id": "61b98e47",
   "metadata": {},
   "source": [
    "# EJERCICIOS"
   ]
  },
  {
   "cell_type": "markdown",
   "id": "e53ed3e3",
   "metadata": {},
   "source": [
    "**1.** Escriba en Python un programa que ordene de menor a mayor una lista de enteros ingresada por teclado utilizando la siguiente idea: ubique el menor numero de la lista en la primera posicion, y luego ordene el resto de la lista con una llamada recursiva."
   ]
  },
  {
   "cell_type": "markdown",
   "id": "8952535e",
   "metadata": {},
   "source": [
    "**2.** Escriba un programa que calcule el maximo comun divisor de dos numeros enteros positivos ingresados por el usuario. Utilice para resolver el problema una funcion recursiva."
   ]
  },
  {
   "cell_type": "code",
   "execution_count": null,
   "id": "44e4f495",
   "metadata": {},
   "outputs": [],
   "source": []
  }
 ],
 "metadata": {
  "kernelspec": {
   "display_name": "Python 3 (ipykernel)",
   "language": "python",
   "name": "python3"
  },
  "language_info": {
   "codemirror_mode": {
    "name": "ipython",
    "version": 3
   },
   "file_extension": ".py",
   "mimetype": "text/x-python",
   "name": "python",
   "nbconvert_exporter": "python",
   "pygments_lexer": "ipython3",
   "version": "3.9.7"
  }
 },
 "nbformat": 4,
 "nbformat_minor": 5
}
