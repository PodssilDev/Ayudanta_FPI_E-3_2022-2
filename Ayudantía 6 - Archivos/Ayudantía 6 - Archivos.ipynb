{
 "cells": [
  {
   "cell_type": "markdown",
   "id": "09b689ff",
   "metadata": {},
   "source": [
    "<h1> <center>Ayudantía 6: Archivos de Texto</h1>"
   ]
  },
  {
   "cell_type": "markdown",
   "id": "9eb23688",
   "metadata": {},
   "source": [
    "**Profesor**: Cristian Sepúlveda - cristian.sepulvedas@usach.cl <br>\n",
    "**Ayudante**: John Serrano - john.serrano@usach.cl"
   ]
  },
  {
   "cell_type": "markdown",
   "id": "ed778770",
   "metadata": {},
   "source": [
    "# ¿Que son los Archivos de Texto?"
   ]
  },
  {
   "cell_type": "markdown",
   "id": "9dfa9ee5",
   "metadata": {},
   "source": [
    "Son archivos cuya extensión es **.txt** y contienen una cantidad especifica de texto. Si bien hemos utilizado input() para las entradas, a veces queremos pasar información por otro medio distinto a la consola, es ahí donde entran a jugar un papel clave los Archivos de Texto. Lo mismo pasa para la salida, si queremos mostrar resultados por otro medio que no sea la consola, podemos dar un resultado en un Archivo de Texto. Un Archivo de Texto es de tipo de dato **FILE**."
   ]
  },
  {
   "attachments": {
    "imagen_2022-11-19_120838876.png": {
     "image/png": "[encoded data removed]"
    }
   },
   "cell_type": "markdown",
   "id": "28a02878",
   "metadata": {},
   "source": [
    "![imagen_2022-11-19_120838876.png](attachment:imagen_2022-11-19_120838876.png)"
   ]
  },
  {
   "cell_type": "markdown",
   "id": "02e5461f",
   "metadata": {},
   "source": [
    "**Es importante siempre guardar los archivos .py y .txt con los que trabajemos en la misma carpeta, para así evitar problemas de directorios.**"
   ]
  },
  {
   "cell_type": "markdown",
   "id": "98d0bccf",
   "metadata": {},
   "source": [
    "# ¿Como puedo abrir un archivo .txt en Python?"
   ]
  },
  {
   "cell_type": "markdown",
   "id": "857bc24f",
   "metadata": {},
   "source": [
    "Para abrir un archivo en Python, se debe utilizar la función nativa **open()**, la cual recibe dos entradas:\n",
    "* El nombre del archivo en formato String, incluye su extensión (Por ejemplo, \"archivo1.txt\")\n",
    "* Un modo de procesamiento del archivo, también en formato String."
   ]
  },
  {
   "cell_type": "markdown",
   "id": "8d74f13b",
   "metadata": {},
   "source": [
    "Para este curso, se consideran tres modos de procesamiento. Los cuales son:\n",
    "* **r**: Modo de lectura del archivo. Solo se lee el archivo, pero no se modifica de ninguna forma.\n",
    "* **w**: Modo de escritura del archivo. Si ya existe un archivo con el nombre indicado, se borra todo el contenido y se escribe el nuevo contenido, o bien, si no existe el archivo con el nombre indicado, se crea un nuevo archivo con el contenido indicado y el nombre.\n",
    "* **a**: Modo de concatenación. Se mantiene el contenido original del archivo y **directamente al final** del archivo se agrega el nuevo contenido.\n",
    "Independiente de que metodo utilicemos para procesar el archivo, siempre se deben cerrar los archivos de texto. Para ello, se utiliza el metodo **nombre_archivo.close()**"
   ]
  },
  {
   "cell_type": "markdown",
   "id": "7bcf9be9",
   "metadata": {},
   "source": [
    "# El modo lectura"
   ]
  },
  {
   "cell_type": "markdown",
   "id": "9634b4ad",
   "metadata": {},
   "source": [
    "Para leer el contenido de un archivo, se puede utilizar el método **nombre_archivo.readline()**, donde **nombre_archivo** es el nombre del Archivo de Texto. Este método lo que hace es leer una linea del Archivo de Texto y cada vez que se lee una linea, el cursor del archivo se cambia a la siguiente linea."
   ]
  },
  {
   "cell_type": "code",
   "execution_count": 3,
   "id": "90945a3f",
   "metadata": {},
   "outputs": [
    {
     "name": "stdout",
     "output_type": "stream",
     "text": [
      "Linea 1: Hola! Soy un archivo de texto.\n",
      "\n",
      "Linea 2: Debes procesarme mediante Python.\n",
      "Linea 3: \n",
      "Linea 4: \n"
     ]
    }
   ],
   "source": [
    "archivo = open(\"ejemplo1.txt\", \"r\") # Se lee el archivo de texto \"ejemplo1.txt\"\n",
    "linea = archivo.readline()          # Se lee la primera linea. El cursor se mueve a la siguiente linea.\n",
    "print(\"Linea 1:\", linea)            # Se imprime la primera linea del archivo.\n",
    "\n",
    "linea = archivo.readline()          # Se lee la segunda linea. El cursor se mueve al final del archivo (No hay mas lineas)\n",
    "print(\"Linea 2:\", linea)            # Se imprime la segunda linea del archivo.\n",
    "\n",
    "archivo.close()                     # Se cierra el archivo de texto."
   ]
  },
  {
   "cell_type": "markdown",
   "id": "0cf74d5a",
   "metadata": {},
   "source": [
    "Utilizando un ciclo While, podemos guardar todo el contenido del archivo de una variable."
   ]
  },
  {
   "cell_type": "code",
   "execution_count": 4,
   "id": "c339b050",
   "metadata": {},
   "outputs": [
    {
     "name": "stdout",
     "output_type": "stream",
     "text": [
      "Hola! Soy un archivo de texto.\n",
      "\n",
      "\n",
      "Debes procesarme mediante Python.\n"
     ]
    }
   ],
   "source": [
    "archivo = open(\"ejemplo1.txt\", \"r\") # Se lee el archivo de texto \"ejemplo1.txt\"\n",
    "texto_archivo = \"\"\n",
    "linea = archivo.readline()\n",
    "while linea != \"\":\n",
    "    texto_archivo += linea\n",
    "    linea = archivo.readline()\n",
    "archivo.close()\n",
    "print(texto_archivo)"
   ]
  },
  {
   "cell_type": "markdown",
   "id": "7379bec1",
   "metadata": {},
   "source": [
    "Pero lo anterior se puede hacer de una manera mucho mas facil y simple. Podemos utilizar el metodo **nombre_archivo.readlines()** para así leer inmediatamente todo el contenido del archivo. Pero debemos tener en consideración que **readline()** entrega un **String**, en cambio, **readlines()** entrega una **lista de Strings**. Sin embargo, ambos metodos incluyen en el contenido el salto de linea, representado por el string **'\\n'**"
   ]
  },
  {
   "cell_type": "code",
   "execution_count": 3,
   "id": "261fa1c0",
   "metadata": {},
   "outputs": [
    {
     "name": "stdout",
     "output_type": "stream",
     "text": [
      "['Hoy es Noviembre\\n', 'El mes antes de Navidad\\n', 'Cuyo numero es 10+1.']\n"
     ]
    }
   ],
   "source": [
    "archivo = open(\"ejemplo2.txt\", \"r\") # Se lee el archivo de texto \"ejemplo1.txt\"\n",
    "lineas = archivo.readlines()\n",
    "archivo.close()\n",
    "print(lineas)"
   ]
  },
  {
   "cell_type": "markdown",
   "id": "f9e3ebcf",
   "metadata": {},
   "source": [
    "# Modo de escritua"
   ]
  },
  {
   "cell_type": "markdown",
   "id": "2ed75a4e",
   "metadata": {},
   "source": [
    "Para escribir en un Archivo de Texto, se debe utilizar el metodo **nombre_archivo.write(lineas)**, donde **lineas** es el contenido del archivo a escribir, en formato String.  **Solo 1 String**."
   ]
  },
  {
   "cell_type": "code",
   "execution_count": 9,
   "id": "7e4e8af7",
   "metadata": {},
   "outputs": [
    {
     "name": "stdout",
     "output_type": "stream",
     "text": [
      "['He creado un Arcgggghivo\\n', 'Y es de texto.']\n"
     ]
    }
   ],
   "source": [
    "archivo = open(\"nuevo.txt\", \"w\")\n",
    "archivo.write(\"He creado un Arcgggghivo\\nY es de texto.\")\n",
    "archivo.close()\n",
    "print(linea)"
   ]
  },
  {
   "cell_type": "markdown",
   "id": "4d4bd8b1",
   "metadata": {},
   "source": [
    "**Recordemos que si el archivo no existe, entonces se creará. Si ya existe, se borrará todo el contenido y luego se agregará el contenido indicado**."
   ]
  },
  {
   "cell_type": "markdown",
   "id": "0d1a77e0",
   "metadata": {},
   "source": [
    "# Modo de concatenación"
   ]
  },
  {
   "cell_type": "markdown",
   "id": "9f521e1e",
   "metadata": {},
   "source": [
    "Similar al modo de escritura, nuevamente podemos utilizar el metodo **nombre_archivo.write(lineas)**. Aplican las mismas reglas, pero debemos tener en consideración que el nuevo contenido se agregará **inmediatamente después del final del archivo original**."
   ]
  },
  {
   "cell_type": "code",
   "execution_count": 11,
   "id": "c41fd297",
   "metadata": {},
   "outputs": [],
   "source": [
    "archivo = open(\"nuevo.txt\", \"a\")\n",
    "archivo.write(\"\\nHe creado un nuevo Archivo de Texto\")\n",
    "archivo.close()"
   ]
  },
  {
   "cell_type": "markdown",
   "id": "83a649e0",
   "metadata": {},
   "source": [
    "# Ciclo For in"
   ]
  },
  {
   "cell_type": "markdown",
   "id": "dbc9c2be",
   "metadata": {},
   "source": [
    "El ciclo For in es una nueva forma de iterar bastante util cuando se trabaja con archivos. Sigue la siguiente estructura:\n",
    "* For **variable** in **elemento_iterable**\n",
    "* **variable** puede ser cualquier nombre. Usualmente y por buenas practicas, el nombre debe hacer alusión al contenido del elemento iterable. \n",
    "* **elemento_iterable** es cualquier elemento que se puede recorrer, como por ejemplo, listas."
   ]
  },
  {
   "cell_type": "code",
   "execution_count": 13,
   "id": "1e7331f6",
   "metadata": {},
   "outputs": [
    {
     "name": "stdout",
     "output_type": "stream",
     "text": [
      "103\n",
      "104\n",
      "101\n",
      "102\n"
     ]
    }
   ],
   "source": [
    "lista = [3,4,1,2]\n",
    "\n",
    "for numero in lista:\n",
    "    numero = numero + 100\n",
    "    print(numero)"
   ]
  },
  {
   "cell_type": "markdown",
   "id": "658876d1",
   "metadata": {},
   "source": [
    "For in también es una herramienta muy potente cuando estamos trabajando con **listas bidimensionales**. Supongamos que tenemos una matriz 3x3 y queremos imprimir todos sus elementos."
   ]
  },
  {
   "cell_type": "code",
   "execution_count": 7,
   "id": "9bcee945",
   "metadata": {},
   "outputs": [
    {
     "name": "stdout",
     "output_type": "stream",
     "text": [
      "9\n",
      "5\n",
      "2\n",
      "3\n",
      "1\n",
      "2\n",
      "3\n",
      "4\n",
      "5\n"
     ]
    }
   ],
   "source": [
    "matriz = [[9,5,2], [3,1,2], [3,4,5]]\n",
    "for fila in matriz:\n",
    "    for columna in fila:\n",
    "        print(columna)"
   ]
  },
  {
   "cell_type": "markdown",
   "id": "cb80218f",
   "metadata": {},
   "source": [
    "# EJERCICIOS"
   ]
  },
  {
   "cell_type": "markdown",
   "id": "8ff08658",
   "metadata": {},
   "source": [
    "Pyuk, el Dios de la reprobacion es dueño de la PyNote, un archivo de texto capaz de reprobar alumnos con solo escribir su nombre en el. Las primeras cuatro líneas del archivo son encabezados y luego cada línea tiene el nombre, la nota final y la causa de reprobacion, en algunos casos, solo estara escrito el nombre."
   ]
  },
  {
   "attachments": {
    "imagen_2022-11-19_134813909.png": {
     "image/png": "[encoded data removed]"
    }
   },
   "cell_type": "markdown",
   "id": "e6eebb9f",
   "metadata": {},
   "source": [
    "![imagen_2022-11-19_134813909.png](attachment:imagen_2022-11-19_134813909.png)"
   ]
  },
  {
   "cell_type": "markdown",
   "id": "0ae91c92",
   "metadata": {},
   "source": [
    "**1.** Dado que Pyuk reprueba alumnos por monton, suele olvidar los alumnos que ha reprobado. Desarrolle la función **reprobado(nombre,archivo)** que retorna la causa de reprobacion. Si no hay causa de reprobacion debe retornar el string **\"Perdio las ganas de aprobar\"**. Por ultimo, si el nombre no aparece en la lista, retornar **False**."
   ]
  },
  {
   "cell_type": "markdown",
   "id": "e0fda534",
   "metadata": {},
   "source": [
    "**2.** Desarrolle la función **agregar(lista, archivo)**, que reciba una lista con el nombre, nota (int) y la causa de reprobación o solo el nombre de un nuevo alumno. La función debe agregar una línea con la información de la lista al final de la PyNote."
   ]
  },
  {
   "cell_type": "markdown",
   "id": "12953561",
   "metadata": {},
   "source": [
    "**3.** Las reglas de la PyNote dicen que si un nombre es tachado antes de reprobar, este aprobará todos sus ramos. Escriba la función **tachar(nombre, archivo)** que modifique el nombre de la persona en el archivo, tachando todas sus letras con un guion (-). **Considere que el nombre siempre estara en el archivo.**"
   ]
  },
  {
   "cell_type": "code",
   "execution_count": null,
   "id": "6c3778bc",
   "metadata": {},
   "outputs": [],
   "source": []
  }
 ],
 "metadata": {
  "kernelspec": {
   "display_name": "Python 3 (ipykernel)",
   "language": "python",
   "name": "python3"
  },
  "language_info": {
   "codemirror_mode": {
    "name": "ipython",
    "version": 3
   },
   "file_extension": ".py",
   "mimetype": "text/x-python",
   "name": "python",
   "nbconvert_exporter": "python",
   "pygments_lexer": "ipython3",
   "version": "3.9.7"
  }
 },
 "nbformat": 4,
 "nbformat_minor": 5
}
