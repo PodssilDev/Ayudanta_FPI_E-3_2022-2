{
 "cells": [
  {
   "cell_type": "markdown",
   "metadata": {
    "id": "eYakJtwBHqYG"
   },
   "source": [
    "<p><img src=\"https://fing.usach.cl/sites/ingenieria/files/logo-fing.png\" alt=\"LogoUSACH\" width=\"40%\" align=\"right\" hspace=\"10px\" vspace=\"0px\"></p>\n",
    "\n",
    "# Numpy"
   ]
  },
  {
   "cell_type": "markdown",
   "metadata": {
    "id": "GCLydi8DoJX7"
   },
   "source": [
    "Hasta el momento, solo se ha trabajado con Python en temas genéricos, es decir, hemos utilizado módulos y funciones en programas que no pertenecen a un área en específico. Ahora, en este capítulo, se introducirá un módulo desarrollado, principalmente, para trabajar con matrices y vectores. Este módulo es llamado [Numpy](https://numpy.org/).\n",
    "\n",
    "Numpy es un módulo de código abierto y gratuito que no forma parte de la biblioteca estándar de Python, por lo que requiere de una **instalación adicional**.\n",
    "\n",
    "Debido a las características que ofrece, a menudo Numpy es utilizado en conjunto con otros módulos como lo son `mathplotlib` o `Pandas`. Lo anterior, para realizar operaciones que se trabajan en ambientes de programación científica como `Matlab` y `Octave`."
   ]
  },
  {
   "cell_type": "markdown",
   "metadata": {
    "id": "FwG7xD310MwK"
   },
   "source": [
    "## Característica Generales"
   ]
  },
  {
   "cell_type": "markdown",
   "metadata": {
    "id": "ss7U9i7eVCxv"
   },
   "source": [
    "Como se mencionó previamente, Numpy es un `módulo` que requiere instalación para que esté disponible para su uso en Python.\n",
    "\n",
    "Una vez instalado, para poder utilizarlo, es necesario realizar la importación de funciones (como se vio en clases anteriores).\n",
    "\n",
    "Dicha importación se realizará de la siguiente manera:"
   ]
  },
  {
   "cell_type": "code",
   "execution_count": null,
   "metadata": {
    "id": "OE4P1Bf_kUwR"
   },
   "outputs": [],
   "source": [
    "import numpy as np\n",
    "\n",
    "# De esta manera el módulo numpy será llamado con las siglas np\n",
    "# Cada vez que se requiera llamar una función de dicho módulo, se antepondrá las letras np.<función> a utilizar\n",
    "# Nótese que esa es la forma estándar de importar este módulo, aunque las otras alternativas\n",
    "# siguen siendo válidas"
   ]
  },
  {
   "cell_type": "markdown",
   "metadata": {
    "id": "6Mutl_8lktoT"
   },
   "source": [
    "El uso de Numpy permite trabajar de manera directa con dos nuevos tipos de datos que representan a vectores (llamados arreglos) y a matrices. Dichos tipos de datos son **`array`** y **`matrix`** respectivamente."
   ]
  },
  {
   "cell_type": "markdown",
   "metadata": {
    "id": "B4fwAej1lnS5"
   },
   "source": [
    "## Arreglos (`array`)"
   ]
  },
  {
   "cell_type": "markdown",
   "metadata": {
    "id": "-JxikwrSlqor"
   },
   "source": [
    "Los arreglos son representaciones de Python para definir vectores, los cuales pueden ser de unidimensionales o multidimensionales (arreglos de arreglos).\n",
    "\n",
    "La ventaja de poder utilizar arreglos es que permite trabajar de manera vectorial, lo cual hace que no sea necesario el uso de ciclos para realizar operaciones matemáticas a cada elemento.\n",
    "\n",
    "Para definir los arreglos, se utiliza la función **`array`**, la cual recibe como parámetro de entrada una lista."
   ]
  },
  {
   "cell_type": "code",
   "execution_count": 3,
   "metadata": {
    "colab": {
     "base_uri": "https://localhost:8080/"
    },
    "executionInfo": {
     "elapsed": 268,
     "status": "ok",
     "timestamp": 1652821092970,
     "user": {
      "displayName": "Alfredo Gonzalezf",
      "userId": "10271437243951850394"
     },
     "user_tz": 240
    },
    "id": "qB9iZe1DnZX0",
    "outputId": "293382a1-2498-40f6-8564-c6fb5d4599d2"
   },
   "outputs": [
    {
     "name": "stdout",
     "output_type": "stream",
     "text": [
      "[ 2  4  6  8 10]\n",
      "[ 6 12 18 24 30]\n"
     ]
    }
   ],
   "source": [
    "import numpy as np\n",
    "# Ejemplo_1: Se define un vector (arreglo) y posterior a ello, realiza la multiplicación de cada elemento por un número\n",
    "arreglo_1 = np.array([2, 4, 6, 8, 10])\n",
    "print(arreglo_1)\n",
    "\n",
    "vector_1 = arreglo_1*3\n",
    "print(vector_1)"
   ]
  },
  {
   "cell_type": "markdown",
   "metadata": {
    "id": "bm7HnAmZoZkH"
   },
   "source": [
    "Para definir un vector multidimensional, solo hace falta ingresar listas de listas como parámetro de entrada para la función **`array`**"
   ]
  },
  {
   "cell_type": "code",
   "execution_count": 2,
   "metadata": {
    "colab": {
     "base_uri": "https://localhost:8080/"
    },
    "executionInfo": {
     "elapsed": 290,
     "status": "ok",
     "timestamp": 1652818121311,
     "user": {
      "displayName": "Alfredo Gonzalezf",
      "userId": "10271437243951850394"
     },
     "user_tz": 240
    },
    "id": "UnxcOcNioksO",
    "outputId": "d235110c-e3d9-4dc0-b656-02bef7673407"
   },
   "outputs": [
    {
     "name": "stdout",
     "output_type": "stream",
     "text": [
      "[[ 2  4]\n",
      " [ 8 10]\n",
      " [ 0  6]]\n"
     ]
    }
   ],
   "source": [
    "import numpy as np\n",
    "# Ejemplo_2: Se define un vector (arreglo) multidimensional\n",
    "arreglo_2 = np.array([[2, 4], [8, 10], [0, 6]])\n",
    "print(arreglo_2)"
   ]
  },
  {
   "cell_type": "markdown",
   "metadata": {
    "id": "QlWVX-Dwy8US"
   },
   "source": [
    "Como ahora se puede trabajar con vectores, se pueden realizar operaciones matemáticas de manera directa. En el siguiente ejemplo se ve el caso de la suma de vectores."
   ]
  },
  {
   "cell_type": "code",
   "execution_count": 5,
   "metadata": {
    "colab": {
     "base_uri": "https://localhost:8080/"
    },
    "executionInfo": {
     "elapsed": 251,
     "status": "ok",
     "timestamp": 1652820691761,
     "user": {
      "displayName": "Alfredo Gonzalezf",
      "userId": "10271437243951850394"
     },
     "user_tz": 240
    },
    "id": "7vRmMMn_yfvi",
    "outputId": "9d20e291-7293-460e-81a3-e97f618b046a"
   },
   "outputs": [
    {
     "name": "stdout",
     "output_type": "stream",
     "text": [
      "[3 9 8 9 7 8]\n"
     ]
    }
   ],
   "source": [
    "import numpy as np\n",
    "# Ejemplo_3: Se definen dos vectores (arreglo) y posterior a ello, se realiza la suma de ambos\n",
    "arreglo_A_3 = np.array([2, 4, 6, 1, 3 , 7])\n",
    "arreglo_B_3 = np.array([1, 5, 2, 8, 4, 1])\n",
    "\n",
    "suma = arreglo_A_3 + arreglo_B_3\n",
    "print(suma)"
   ]
  },
  {
   "cell_type": "markdown",
   "metadata": {
    "id": "2zDfAWlXz0Tn"
   },
   "source": [
    "De la misma forma en que `Numpy` permite realizar la suma y resta, existe al posibilidad de poder realizar la operación de multiplicación"
   ]
  },
  {
   "cell_type": "code",
   "execution_count": 6,
   "metadata": {
    "colab": {
     "base_uri": "https://localhost:8080/"
    },
    "executionInfo": {
     "elapsed": 242,
     "status": "ok",
     "timestamp": 1652821128066,
     "user": {
      "displayName": "Alfredo Gonzalezf",
      "userId": "10271437243951850394"
     },
     "user_tz": 240
    },
    "id": "iBmVLbXu0KS1",
    "outputId": "79901506-9708-4f49-eb24-3468a105426c"
   },
   "outputs": [
    {
     "name": "stdout",
     "output_type": "stream",
     "text": [
      "[ 2 20 12  8 12  7]\n"
     ]
    }
   ],
   "source": [
    "import numpy as np\n",
    "# Ejemplo_4: Se definen dos vectores (arreglo) y posterior a ello, se realiza la multiplicación de ambos\n",
    "arreglo_A_4 = np.array([2, 4, 6, 1, 3, 7])\n",
    "arreglo_B_4 = np.array([1, 5, 2, 8, 4, 1])\n",
    "\n",
    "multiplicacion = arreglo_A_4 * arreglo_B_4\n",
    "print(multiplicacion)"
   ]
  },
  {
   "cell_type": "markdown",
   "metadata": {},
   "source": [
    "Esto es válido para todas las operaciones aritméticas básicas: exponenciación (`**`), multiplicaciones y divisiones (`*`, `/`, `//` y `%`), sumas, identidad, resta y cambio de signo (`+`, `-`)."
   ]
  },
  {
   "cell_type": "markdown",
   "metadata": {
    "id": "aQKEIzL2veC1"
   },
   "source": [
    "## Matrices (`matrix`)"
   ]
  },
  {
   "cell_type": "markdown",
   "metadata": {
    "id": "-a1ivzk2vh7Q"
   },
   "source": [
    "Numpy no solo ofrece la posibilidad de generar vectores sino que también permite el trabajo con matrices. Para ello, se utiliza el tipo de dato **`matrix`**, el cual recibe como parámetro de entrada una lista de listas."
   ]
  },
  {
   "cell_type": "code",
   "execution_count": null,
   "metadata": {
    "colab": {
     "base_uri": "https://localhost:8080/"
    },
    "executionInfo": {
     "elapsed": 259,
     "status": "ok",
     "timestamp": 1652821185320,
     "user": {
      "displayName": "Alfredo Gonzalezf",
      "userId": "10271437243951850394"
     },
     "user_tz": 240
    },
    "id": "vHOdQsT7pJKG",
    "outputId": "3905358f-a346-4518-aa71-a4ff744bd97b"
   },
   "outputs": [
    {
     "name": "stdout",
     "output_type": "stream",
     "text": [
      "[[1 2 3]\n",
      " [4 5 6]\n",
      " [7 8 9]]\n"
     ]
    }
   ],
   "source": [
    "import numpy as np\n",
    "# Ejemplo_5: Se define una matriz a partir de una lista de listas\n",
    "matriz_5 = np.matrix([[1, 2, 3], [4, 5, 6], [7, 8, 9]])\n",
    "\n",
    "print(matriz_5)"
   ]
  },
  {
   "cell_type": "markdown",
   "metadata": {
    "id": "d93aJW4y0e9o"
   },
   "source": [
    "Al igual que en vectores (`array`), Numpy ofrece la posibilidad de realizar sumas en matrices (`matrix`)"
   ]
  },
  {
   "cell_type": "code",
   "execution_count": null,
   "metadata": {
    "colab": {
     "base_uri": "https://localhost:8080/"
    },
    "executionInfo": {
     "elapsed": 243,
     "status": "ok",
     "timestamp": 1652821253304,
     "user": {
      "displayName": "Alfredo Gonzalezf",
      "userId": "10271437243951850394"
     },
     "user_tz": 240
    },
    "id": "Ns63F6Sdy0gD",
    "outputId": "8b4e8f76-1526-4381-962f-2e5b779468b2"
   },
   "outputs": [
    {
     "name": "stdout",
     "output_type": "stream",
     "text": [
      "\n",
      "\n",
      "[[ 2  5  8 11 21]\n",
      " [ 3  4  9 12 15]]\n"
     ]
    }
   ],
   "source": [
    "import numpy as np\n",
    "# Ejemplo_6: Se definen dos matrices y posterior a ello, se realiza la suma de ambas\n",
    "matriz_A_6 = np.matrix([[2, 4, 6, 8, 10], [1, 3, 5, 7, 9]])\n",
    "matriz_B_6 = np.matrix([[0, 1, 2, 3, 11], [2, 1, 4, 5, 6]])\n",
    "\n",
    "print(\"\\n\")\n",
    "\n",
    "suma = matriz_A_6 + matriz_B_6\n",
    "print(suma)"
   ]
  },
  {
   "cell_type": "markdown",
   "metadata": {
    "id": "w7WFm8wo01ag"
   },
   "source": [
    "Además de la suma y resta, Numpy permite realizar multiplicación de matrices considerando sus implicancias (las columnas de la primera matriz debe ser igual a las filas de la segunda matriz)."
   ]
  },
  {
   "cell_type": "code",
   "execution_count": 9,
   "metadata": {
    "colab": {
     "base_uri": "https://localhost:8080/"
    },
    "executionInfo": {
     "elapsed": 265,
     "status": "ok",
     "timestamp": 1652822233654,
     "user": {
      "displayName": "Alfredo Gonzalezf",
      "userId": "10271437243951850394"
     },
     "user_tz": 240
    },
    "id": "r3-I_EGf34Nc",
    "outputId": "4133146c-07df-4b0a-f9a2-88e22b62c830"
   },
   "outputs": [
    {
     "name": "stdout",
     "output_type": "stream",
     "text": [
      "[[3 1 2]\n",
      " [3 0 3]\n",
      " [7 3 6]]\n"
     ]
    }
   ],
   "source": [
    "import numpy as np\n",
    "# Ejemplo_7: Se definen dos matrices y posterior a ello, se realiza la multiplicación de ambas\n",
    "matriz_A_7 = np.matrix([[2, 0, 1], [3, 0, 0], [5, 1, 1]])\n",
    "matriz_B_7 = np.matrix([[1, 0, 1], [1, 2, 1], [1, 1, 0]])\n",
    "\n",
    "multiplicacion = matriz_A_7 * matriz_B_7\n",
    "print(multiplicacion)"
   ]
  },
  {
   "cell_type": "markdown",
   "metadata": {
    "id": "lFhhsXdsUeCV"
   },
   "source": [
    "## Operaciones en Numpy"
   ]
  },
  {
   "cell_type": "markdown",
   "metadata": {
    "id": "-Wo7XckC0Sef"
   },
   "source": [
    "Al incorporar Numpy en Python, se abre un nuevo horizonte en donde se pueden realizar diversas operaciones tanto para vectores como matrices, representadas por el tipo de dato **`array`** y **`matrix`** respectivamente. Entre dichas operaciones se pueden encontrar:\n",
    "\n",
    "1.   Indexación\n",
    "2.   Asignación\n",
    "3.   Cortar\n",
    "4.   Iteración\n",
    "5.   Modificar dimensiones"
   ]
  },
  {
   "cell_type": "markdown",
   "metadata": {
    "id": "lD1pRmdF1keD"
   },
   "source": [
    "### 1.  Indexación"
   ]
  },
  {
   "cell_type": "markdown",
   "metadata": {
    "id": "zGoG3zw01s0r"
   },
   "source": [
    "Tal como se vio en el caso de listas (`list`) y strings (`str`), es posible acceder a distintas posiciones tanto de un vector (`array`) como a una matriz (`matrix)`. Esto se realiza de la siguiente manera:"
   ]
  },
  {
   "cell_type": "markdown",
   "metadata": {
    "id": "VwTwz6tHi5l7"
   },
   "source": [
    "#### 1.a  Arreglo (Vector)"
   ]
  },
  {
   "cell_type": "code",
   "execution_count": 8,
   "metadata": {
    "colab": {
     "base_uri": "https://localhost:8080/"
    },
    "executionInfo": {
     "elapsed": 250,
     "status": "ok",
     "timestamp": 1652822353652,
     "user": {
      "displayName": "Alfredo Gonzalezf",
      "userId": "10271437243951850394"
     },
     "user_tz": 240
    },
    "id": "IbypxPJn2Dlm",
    "outputId": "88b15b07-bcf6-4860-f0d6-b0e3900d8c32"
   },
   "outputs": [
    {
     "name": "stdout",
     "output_type": "stream",
     "text": [
      "[ 2  4  6  8 10]\n",
      "[ 8 16 24 32 40]\n"
     ]
    }
   ],
   "source": [
    "import numpy as np\n",
    "# Ejemplo_8: Se define un vector (arreglo) y posterior a ello, se muestra el mismo vector,\n",
    "# pero cada elemento aparece cuadriplicado\n",
    "arreglo = np.array([2, 4, 6, 8, 10])\n",
    "print(arreglo)\n",
    "\n",
    "arreglo_8 = arreglo*4\n",
    "print(arreglo_8)"
   ]
  },
  {
   "cell_type": "markdown",
   "metadata": {
    "id": "tPc88uEkkigv"
   },
   "source": [
    "#### 1.b  Matriz"
   ]
  },
  {
   "cell_type": "code",
   "execution_count": null,
   "metadata": {
    "colab": {
     "base_uri": "https://localhost:8080/"
    },
    "executionInfo": {
     "elapsed": 240,
     "status": "ok",
     "timestamp": 1652822372260,
     "user": {
      "displayName": "Alfredo Gonzalezf",
      "userId": "10271437243951850394"
     },
     "user_tz": 240
    },
    "id": "eo4lgMlE2cdO",
    "outputId": "5e07556d-c8c8-4d61-81ff-be526c5235bc"
   },
   "outputs": [
    {
     "name": "stdout",
     "output_type": "stream",
     "text": [
      "[[ 2  4  6  8 10]\n",
      " [ 1  3  5  7  9]]\n",
      "7\n"
     ]
    }
   ],
   "source": [
    "import numpy as np\n",
    "# Ejemplo_9: Se define una matriz y posterior a ello, se solicita que muestre por pantalla un elemento\n",
    "# de una posición determinada\n",
    "matriz = np.matrix([[2, 4, 6, 8, 10], [1, 3, 5, 7, 9]])\n",
    "print(matriz)\n",
    "\n",
    "elemento_9 = matriz[1, 3]\n",
    "print(elemento_9)"
   ]
  },
  {
   "cell_type": "markdown",
   "metadata": {
    "id": "sXVlJgcVldsi"
   },
   "source": [
    "En el **Ejemplo_9**, se creó una matriz en Python y se pidió mostrar por pantalla el elemento que se encuentra en la **fila posición 1**, **columna posición 3**.\n",
    "\n",
    "A simple vista, la indexación de las matrices en Python es muy similar a la de las listas de listas, no obstante, tiene una gran diferencia: para acceder a una posición determinada en una lista de lista, se usa doble corchete (uno a continuación del otro, p.e. `lista[1][3]`), en cambio, en las matrices solo se usa un corchete.\n",
    "\n",
    "A continuación se muestra un ejemplo de lo anterior:"
   ]
  },
  {
   "cell_type": "code",
   "execution_count": null,
   "metadata": {
    "colab": {
     "base_uri": "https://localhost:8080/"
    },
    "executionInfo": {
     "elapsed": 301,
     "status": "ok",
     "timestamp": 1652822422262,
     "user": {
      "displayName": "Alfredo Gonzalezf",
      "userId": "10271437243951850394"
     },
     "user_tz": 240
    },
    "id": "-Z9CE772mbJQ",
    "outputId": "7aee97a7-289c-49fb-def2-17cc3032fe9c"
   },
   "outputs": [
    {
     "name": "stdout",
     "output_type": "stream",
     "text": [
      "[[ 2  4  6  8 10]\n",
      " [ 1  3  5  7  9]]\n",
      "7\n",
      "[[2, 4, 6, 8, 10], [1, 3, 5, 7, 9]]\n",
      "7\n"
     ]
    }
   ],
   "source": [
    "import numpy as np\n",
    "# Ejemplo_10: Se define una matriz y una lista de listas posterior a ello, se accede a la misma posición\n",
    "matriz = np.matrix([[2, 4, 6, 8, 10], [1, 3, 5, 7, 9]])\n",
    "print(matriz)\n",
    "\n",
    "elemento_10_matriz = matriz[1, 3]\n",
    "print(elemento_10_matriz)\n",
    "\n",
    "lista_de_listas = [[2, 4, 6, 8, 10], [1, 3, 5, 7, 9]]\n",
    "print(lista_de_listas)\n",
    "\n",
    "elemento_10_lista = lista_de_listas[1][3]\n",
    "print(elemento_10_lista)"
   ]
  },
  {
   "cell_type": "markdown",
   "metadata": {},
   "source": [
    "***Nota*** Hay que señalar una diferencia entre estos mecanismos para un `array` multimensional:\n",
    "- Para un `array` **multidimensional**, ambas notaciones producen el mismo resultado.\n",
    "- Para una `matrix`, un solo índice entrega una *submatriz*, que es, a su vez, una matriz, por lo que solo se puede acceder a los elementos entregando fila y columna como índices.\n",
    "- Para una lista, el índice solo puede ser un número entero, por lo que la notación de separar por coma produce un error de sintaxis (`SyntaxError`).\n",
    "\n",
    "Ejemplo:"
   ]
  },
  {
   "cell_type": "code",
   "execution_count": 11,
   "metadata": {},
   "outputs": [
    {
     "name": "stdout",
     "output_type": "stream",
     "text": [
      "Array:\n",
      "[ 2  4  6  8 10]\n",
      "2\n",
      "2\n",
      "Matrix:\n",
      "[[ 2  4  6  8 10]]\n",
      "[[ 2  4  6  8 10]]\n",
      "2\n",
      "List:\n",
      "[2, 4, 6, 8, 10]\n",
      "2\n"
     ]
    },
    {
     "ename": "TypeError",
     "evalue": "list indices must be integers or slices, not tuple",
     "output_type": "error",
     "traceback": [
      "\u001b[1;31m---------------------------------------------------------------------------\u001b[0m",
      "\u001b[1;31mTypeError\u001b[0m                                 Traceback (most recent call last)",
      "\u001b[1;32mc:\\Users\\Usuario\\OneDrive - usach.cl\\coordinaciones\\FPI-FCyP\\apuntes_colab\\14 - Numpy.ipynb Celda 46\u001b[0m in \u001b[0;36m<cell line: 28>\u001b[1;34m()\u001b[0m\n\u001b[0;32m     <a href='vscode-notebook-cell:/c%3A/Users/Usuario/OneDrive%20-%20usach.cl/coordinaciones/FPI-FCyP/apuntes_colab/14%20-%20Numpy.ipynb#Y204sZmlsZQ%3D%3D?line=25'>26</a>\u001b[0m \u001b[39mprint\u001b[39m(lista[\u001b[39m0\u001b[39m][\u001b[39m0\u001b[39m])\n\u001b[0;32m     <a href='vscode-notebook-cell:/c%3A/Users/Usuario/OneDrive%20-%20usach.cl/coordinaciones/FPI-FCyP/apuntes_colab/14%20-%20Numpy.ipynb#Y204sZmlsZQ%3D%3D?line=26'>27</a>\u001b[0m \u001b[39m# Pero esto generará un error de sintaxis:\u001b[39;00m\n\u001b[1;32m---> <a href='vscode-notebook-cell:/c%3A/Users/Usuario/OneDrive%20-%20usach.cl/coordinaciones/FPI-FCyP/apuntes_colab/14%20-%20Numpy.ipynb#Y204sZmlsZQ%3D%3D?line=27'>28</a>\u001b[0m \u001b[39mprint\u001b[39m(lista[\u001b[39m0\u001b[39;49m, \u001b[39m0\u001b[39;49m])\n",
      "\u001b[1;31mTypeError\u001b[0m: list indices must be integers or slices, not tuple"
     ]
    }
   ],
   "source": [
    "import numpy as np\n",
    "lista = [[2, 4, 6, 8, 10], [1, 3, 5, 7, 9]]\n",
    "arreglo = np.array(lista)\n",
    "matriz = np.matrix(lista)\n",
    "\n",
    "print(\"Array:\")\n",
    "# Un \"subarray\" es otro array\n",
    "print(arreglo[0])\n",
    "# Se puede acceder a una posición en un array\n",
    "print(arreglo[0][0])\n",
    "# O se puede acceder a una coordenada en el array más grande\n",
    "print(arreglo[0, 0])\n",
    "\n",
    "print(\"Matrix:\")\n",
    "# Una submatriz es otra matriz\n",
    "print(matriz[0])\n",
    "# Por lo tanto, esto genera *otra matriz*\n",
    "print(matriz[0][0])\n",
    "# Esta es la forma de acceder a un elemento\n",
    "print(matriz[0, 0])\n",
    "\n",
    "print(\"List:\")\n",
    "# Un elemento de una lista de listas es una lista\n",
    "print(lista[0])\n",
    "# Por lo que podemos acceder a un elemento de esta\n",
    "print(lista[0][0])\n",
    "# Pero esto generará un error de sintaxis:\n",
    "print(lista[0, 0])"
   ]
  },
  {
   "cell_type": "markdown",
   "metadata": {
    "id": "gcJlZTJg3QWr"
   },
   "source": [
    "### 2.  Asignación"
   ]
  },
  {
   "cell_type": "markdown",
   "metadata": {
    "id": "VDz1BT2Q3dPz"
   },
   "source": [
    "De igual manera como sucede en las listas (`list`), Numpy permite crear arreglos y matrices en donde se puede asignar valores determinados a posiciones en particular."
   ]
  },
  {
   "cell_type": "markdown",
   "metadata": {
    "id": "WcoSfR9BnpNY"
   },
   "source": [
    "#### 2.a  Arreglo (Vector)"
   ]
  },
  {
   "cell_type": "code",
   "execution_count": 12,
   "metadata": {
    "colab": {
     "base_uri": "https://localhost:8080/"
    },
    "executionInfo": {
     "elapsed": 235,
     "status": "ok",
     "timestamp": 1652822565658,
     "user": {
      "displayName": "Alfredo Gonzalezf",
      "userId": "10271437243951850394"
     },
     "user_tz": 240
    },
    "id": "Yh3Loccm32jL",
    "outputId": "4bf637fa-6f50-4c03-dbb9-2bba63502b5d"
   },
   "outputs": [
    {
     "name": "stdout",
     "output_type": "stream",
     "text": [
      "[ 2  4  6  7 10]\n",
      "[ 2  4  6  8 10]\n"
     ]
    }
   ],
   "source": [
    "import numpy as np\n",
    "# Ejemplo_11: Se define un vector (arreglo) y posterior a ello, se asignará un \n",
    "# nuevo valor a una posición determinada\n",
    "arreglo_11 = np.array([2, 4, 6, 7, 10])\n",
    "print(arreglo_11)\n",
    "\n",
    "arreglo_11[3] = 8\n",
    "print(arreglo_11)"
   ]
  },
  {
   "cell_type": "markdown",
   "metadata": {
    "id": "WemwfOEooSOy"
   },
   "source": [
    "#### 2.b  Matriz"
   ]
  },
  {
   "cell_type": "code",
   "execution_count": null,
   "metadata": {
    "colab": {
     "base_uri": "https://localhost:8080/"
    },
    "executionInfo": {
     "elapsed": 272,
     "status": "ok",
     "timestamp": 1652822698409,
     "user": {
      "displayName": "Alfredo Gonzalezf",
      "userId": "10271437243951850394"
     },
     "user_tz": 240
    },
    "id": "tR9BjSXP4LIZ",
    "outputId": "5edb4618-6be8-465a-f8a0-d5892bd318ec"
   },
   "outputs": [
    {
     "name": "stdout",
     "output_type": "stream",
     "text": [
      "[[ 2  4  6  8 10]\n",
      " [ 1  4  5  7  9]]\n",
      "\n",
      "\n",
      "[[ 2  4  6  8 10]\n",
      " [ 1  3  5  7  9]]\n"
     ]
    }
   ],
   "source": [
    "import numpy as np\n",
    "# Ejemplo_12: Se define una matriz y posterior a ello, se asignará un nuevo valor\n",
    "# a una posición determinada\n",
    "matriz_12 = np.matrix([[2, 4, 6, 8, 10], [1, 4, 5, 7, 9]])\n",
    "print(matriz_12)\n",
    "\n",
    "print(\"\\n\")\n",
    "matriz_12[1, 1] = 3\n",
    "print(matriz_12)"
   ]
  },
  {
   "cell_type": "markdown",
   "metadata": {
    "id": "6J844y0YuH6U"
   },
   "source": [
    "### 3.  Cortar\n",
    "\n"
   ]
  },
  {
   "cell_type": "markdown",
   "metadata": {
    "id": "-APySWUuuUh7"
   },
   "source": [
    "Al igual que en las listas, se pueden cortar los arreglos y matrices para extraer parte de su información generando un sub-arreglos o sub-matrices. Para realizar la acción anterior se deben indicar los rangos de datos a copiar.\n",
    "\n",
    "La forma de cortar un arreglo y una matriz es la siguiente:"
   ]
  },
  {
   "cell_type": "markdown",
   "metadata": {
    "id": "yRj02vHYpcDp"
   },
   "source": [
    "#### 3.a  Arreglo (Vector)"
   ]
  },
  {
   "cell_type": "code",
   "execution_count": null,
   "metadata": {
    "colab": {
     "base_uri": "https://localhost:8080/"
    },
    "executionInfo": {
     "elapsed": 272,
     "status": "ok",
     "timestamp": 1652822721723,
     "user": {
      "displayName": "Alfredo Gonzalezf",
      "userId": "10271437243951850394"
     },
     "user_tz": 240
    },
    "id": "uQ1O7HPCu6wm",
    "outputId": "0f2b59bd-e2a9-4fe4-c60e-297f8b599b3d"
   },
   "outputs": [
    {
     "name": "stdout",
     "output_type": "stream",
     "text": [
      "[ 2  4  6  7 10]\n",
      "\n",
      "\n",
      "[6 7]\n"
     ]
    }
   ],
   "source": [
    "import numpy as np\n",
    "#Ejemplo_13: Se define un vector (arreglo) y posterior a ello, se realizará un corte para crear un sub-arreglo\n",
    "arreglo_13 = np.array([2, 4, 6, 7, 10])\n",
    "print(arreglo_13)\n",
    "\n",
    "print(\"\\n\")\n",
    "\n",
    "corte_13 = arreglo_13[2:4]\n",
    "print(corte_13)"
   ]
  },
  {
   "cell_type": "markdown",
   "metadata": {
    "id": "5ZpQR5aBxkdI"
   },
   "source": [
    "#### 3.b  Matriz"
   ]
  },
  {
   "cell_type": "code",
   "execution_count": null,
   "metadata": {
    "colab": {
     "base_uri": "https://localhost:8080/"
    },
    "executionInfo": {
     "elapsed": 250,
     "status": "ok",
     "timestamp": 1652822741382,
     "user": {
      "displayName": "Alfredo Gonzalezf",
      "userId": "10271437243951850394"
     },
     "user_tz": 240
    },
    "id": "50CZDW3FvE8z",
    "outputId": "1d3c43ba-c7bc-47f8-d269-07427cee5fbb"
   },
   "outputs": [
    {
     "name": "stdout",
     "output_type": "stream",
     "text": [
      "[[ 2  4  6  8 10]\n",
      " [ 1  3  5  7  9]]\n",
      "\n",
      "\n",
      "[[6]\n",
      " [5]]\n"
     ]
    }
   ],
   "source": [
    "import numpy as np\n",
    "#Ejemplo_14: Se define una matriz y posterior a ello, se realizará un corte para crear un sub-arreglo\n",
    "matriz_14 = np.matrix([[2, 4, 6, 8, 10], [1, 3, 5, 7, 9]])\n",
    "print(matriz_14)\n",
    "\n",
    "print(\"\\n\")\n",
    "\n",
    "corte_14 = matriz_14[0:2, 2:3]\n",
    "print(corte_14)"
   ]
  },
  {
   "cell_type": "markdown",
   "metadata": {
    "id": "2VjBXPWVvW4O"
   },
   "source": [
    "Como se observa en el **ejemplo_14**, se solicita que muestre desde la fila 0 hasta la fila 2-1 (la fila en posició 0 y la fila posición 1). En el caso de la columna, se indica que se extraiga solo la columna en posición 2 de cada fila.\n",
    "\n",
    "En caso de que se quiera acceder solo a la primera fila y acceder a las primeras 3 columnas, el ejemplo anterior quedaría de la siguiente manera:"
   ]
  },
  {
   "cell_type": "code",
   "execution_count": 15,
   "metadata": {
    "colab": {
     "base_uri": "https://localhost:8080/"
    },
    "executionInfo": {
     "elapsed": 260,
     "status": "ok",
     "timestamp": 1652822791830,
     "user": {
      "displayName": "Alfredo Gonzalezf",
      "userId": "10271437243951850394"
     },
     "user_tz": 240
    },
    "id": "vvkm-Sw7vtCe",
    "outputId": "17c756e8-3e45-40f8-baa2-5e504ec34911"
   },
   "outputs": [
    {
     "name": "stdout",
     "output_type": "stream",
     "text": [
      "[[ 2  4  6  8 10]\n",
      " [ 1  3  5  7  9]]\n",
      "\n",
      "\n",
      "[[2 4 6]]\n"
     ]
    }
   ],
   "source": [
    "import numpy as np\n",
    "# Ejemplo_15: Se define una matriz y posterior a ello, se realizará un corte para crear un sub-arreglo\n",
    "matriz_15 = np.matrix([[2, 4, 6, 8, 10], [1, 3, 5, 7, 9]])\n",
    "print(matriz_15)\n",
    "\n",
    "print(\"\\n\")\n",
    "\n",
    "corte_15 = matriz_15[0, 0:3]\n",
    "print(corte_15)"
   ]
  },
  {
   "cell_type": "markdown",
   "metadata": {
    "id": "QQz80rzxxulu"
   },
   "source": [
    "### 4.  Iteración"
   ]
  },
  {
   "cell_type": "markdown",
   "metadata": {
    "id": "GMIpOt4BxwUV"
   },
   "source": [
    "Al igual que lo visto en listas (`list`) y en strings (`str`), tanto en arreglos y matrices generadas por Numpy es posible acceder a cada posición y realizar una determinada acción. En otras palabras, se puede realizar iteraciones (`for in` o `while`)."
   ]
  },
  {
   "cell_type": "markdown",
   "metadata": {
    "id": "5xChV7gSuyF5"
   },
   "source": [
    "#### 4.a  Arreglo (Vector)"
   ]
  },
  {
   "cell_type": "code",
   "execution_count": 16,
   "metadata": {
    "colab": {
     "base_uri": "https://localhost:8080/"
    },
    "executionInfo": {
     "elapsed": 244,
     "status": "ok",
     "timestamp": 1652822825801,
     "user": {
      "displayName": "Alfredo Gonzalezf",
      "userId": "10271437243951850394"
     },
     "user_tz": 240
    },
    "id": "Sv7EusMfyRfU",
    "outputId": "0fca3572-fc2d-4b05-a069-14a6a4ad7390"
   },
   "outputs": [
    {
     "name": "stdout",
     "output_type": "stream",
     "text": [
      "[ 2  4  6  7 10]\n",
      "\n",
      "\n",
      "[ 4  8 12 14 20]\n"
     ]
    }
   ],
   "source": [
    "import numpy as np\n",
    "# Ejemplo_16: Se define un vector (arreglo) y posterior a ello, se duplicará cada \n",
    "# elemento del arreglo\n",
    "arreglo_16 = np.array([2, 4, 6, 7, 10])\n",
    "print(arreglo_16)\n",
    "\n",
    "print(\"\\n\")\n",
    "\n",
    "i = 0\n",
    "while i < len(arreglo_16):\n",
    "  arreglo_16[i] = arreglo_16[i]*2\n",
    "  i = i + 1\n",
    "print(arreglo_16)"
   ]
  },
  {
   "cell_type": "markdown",
   "metadata": {
    "id": "rrnJzB2PzMrC"
   },
   "source": [
    "#### 4.b  Matriz"
   ]
  },
  {
   "cell_type": "code",
   "execution_count": 17,
   "metadata": {
    "colab": {
     "base_uri": "https://localhost:8080/"
    },
    "executionInfo": {
     "elapsed": 273,
     "status": "ok",
     "timestamp": 1652822840848,
     "user": {
      "displayName": "Alfredo Gonzalezf",
      "userId": "10271437243951850394"
     },
     "user_tz": 240
    },
    "id": "Dz7G8PlPzVKg",
    "outputId": "e774399c-3289-486d-c679-1e5bc82a85e3"
   },
   "outputs": [
    {
     "name": "stdout",
     "output_type": "stream",
     "text": [
      "[[ 2  4  6  8 10]\n",
      " [ 1  3  5  7  9]]\n",
      "\n",
      "\n",
      "[[ 2  4  6  8 10]]\n",
      "[[1 3 5 7 9]]\n"
     ]
    }
   ],
   "source": [
    "import numpy as np\n",
    "# Ejemplo_17: Se define una matriz y posterior a ello, se imprimirá cada fila\n",
    "matriz_17 = np.matrix([[2, 4, 6, 8, 10], [1, 3, 5, 7, 9]])\n",
    "print(matriz_17)\n",
    "\n",
    "print(\"\\n\")\n",
    "\n",
    "for fila in matriz_17:\n",
    "  print(fila)"
   ]
  },
  {
   "cell_type": "markdown",
   "metadata": {},
   "source": [
    "#### 4.c Aplanar arreglos"
   ]
  },
  {
   "cell_type": "markdown",
   "metadata": {
    "id": "ZXBgPNZ9zkUZ"
   },
   "source": [
    "Tal como se mostró en el  **ejemplo_17** al realizar una iteración en una matriz, se accede a las filas que la conforman. Para poder acceder a los elementos de cada fila (sea un arreglo multidimensional o una matriz), el módulo `Numpy` ofrece la propiedad llamada `.flat`, la cual permite, mediante una sola iteración, acceder a las columnas que conforman la fila de la matriz, \"aplanando\" el objeto."
   ]
  },
  {
   "cell_type": "code",
   "execution_count": 18,
   "metadata": {
    "colab": {
     "base_uri": "https://localhost:8080/"
    },
    "executionInfo": {
     "elapsed": 246,
     "status": "ok",
     "timestamp": 1652822866548,
     "user": {
      "displayName": "Alfredo Gonzalezf",
      "userId": "10271437243951850394"
     },
     "user_tz": 240
    },
    "id": "XrmLMwTMzAFe",
    "outputId": "e3aca081-d4fb-44c4-a6e8-13b3a6d1fb8d"
   },
   "outputs": [
    {
     "name": "stdout",
     "output_type": "stream",
     "text": [
      "[[ 2  4  6  8 10]\n",
      " [ 1  3  5  7  9]]\n",
      "\n",
      "\n",
      "2\n",
      "4\n",
      "6\n",
      "8\n",
      "10\n",
      "1\n",
      "3\n",
      "5\n",
      "7\n",
      "9\n"
     ]
    }
   ],
   "source": [
    "import numpy as np\n",
    "# Ejemplo_18: Se define una matriz y posterior a ello, se imprimirá cada fila\n",
    "matriz_18 = np.matrix([[2, 4, 6, 8, 10], [1, 3, 5, 7, 9]])\n",
    "print(matriz_18)\n",
    "\n",
    "print(\"\\n\")\n",
    "\n",
    "for numero in matriz_18.flat:\n",
    "  print(numero)"
   ]
  },
  {
   "cell_type": "markdown",
   "metadata": {
    "id": "W6o0KZAB0axl"
   },
   "source": [
    "### 5.  Modificar Dimensiones"
   ]
  },
  {
   "cell_type": "markdown",
   "metadata": {
    "id": "FBFcfnTf0sKG"
   },
   "source": [
    "Una de las características que ofrece Numpy relacionado con arreglos y matrices es la posibilidad de poder cambiar las dimensiones, pero manteniendo la cantidad de elementos que conforman el tipo de dato definido. "
   ]
  },
  {
   "cell_type": "markdown",
   "metadata": {
    "id": "1Vc2OoNZ5lRL"
   },
   "source": [
    "#### 5.a  Arreglo (Vector)"
   ]
  },
  {
   "cell_type": "code",
   "execution_count": 19,
   "metadata": {
    "colab": {
     "base_uri": "https://localhost:8080/"
    },
    "executionInfo": {
     "elapsed": 265,
     "status": "ok",
     "timestamp": 1652822882344,
     "user": {
      "displayName": "Alfredo Gonzalezf",
      "userId": "10271437243951850394"
     },
     "user_tz": 240
    },
    "id": "FhacAggF-l0c",
    "outputId": "939346e0-f27a-4efb-8949-d7a314bb5b98"
   },
   "outputs": [
    {
     "name": "stdout",
     "output_type": "stream",
     "text": [
      "[[2 4 6]\n",
      " [1 3 7]]\n",
      "\n",
      "\n",
      "[2 4 6 1 3 7]\n"
     ]
    }
   ],
   "source": [
    "import numpy as np\n",
    "# Ejemplo_19: Se define un vector (arreglo) multidimensional y posterior a ello, se cambiarán las dimensiones\n",
    "arreglo_19 = np.array([[2, 4, 6], [1, 3, 7]])\n",
    "print(arreglo_19)\n",
    "\n",
    "print(\"\\n\")\n",
    "\n",
    "nuevo_arreglo = arreglo_19.flatten()\n",
    "print(nuevo_arreglo)"
   ]
  },
  {
   "cell_type": "markdown",
   "metadata": {
    "id": "EwM86Rgb_Ubz"
   },
   "source": [
    "El **ejemplo_19** muestra como el arreglo multidimensional cambió a un nuevo arreglo de una sola dimension, conservando todos los elementos originales\n",
    "\n",
    "Además, es posible utilizar nuevas dimensiones arbitrarias, siempre y cuando el total de elementos se mantenga:"
   ]
  },
  {
   "cell_type": "code",
   "execution_count": 23,
   "metadata": {},
   "outputs": [
    {
     "name": "stdout",
     "output_type": "stream",
     "text": [
      "Original:\n",
      "[[2 4 6 8]\n",
      " [1 3 7 9]]\n",
      "\n",
      "Transpuesto:\n",
      "[[2 4]\n",
      " [6 8]\n",
      " [1 3]\n",
      " [7 9]]\n",
      "\n",
      "Dos matrices de 2x2:\n",
      "[[[2 4]\n",
      "  [6 8]]\n",
      "\n",
      " [[1 3]\n",
      "  [7 9]]]\n",
      "\n"
     ]
    }
   ],
   "source": [
    "import numpy as np\n",
    "\n",
    "arreglo = np.array([[2, 4, 6, 8], [1, 3, 7, 9]])\n",
    "print(\"Original:\", arreglo, sep=\"\\n\", end=\"\\n\\n\")\n",
    "\n",
    "# Le damos una lista con la cantidad de elementos en cada nueva dimensión\n",
    "arreglo = arreglo.reshape([4, 2])\n",
    "print(\"Transpuesto:\", arreglo, sep=\"\\n\", end=\"\\n\\n\")\n",
    "\n",
    "# Pueden ser más de dos dimensiones\n",
    "arreglo = arreglo.reshape([2, 2, 2])\n",
    "print(\"Dos matrices de 2x2:\", arreglo, sep=\"\\n\", end=\"\\n\\n\")"
   ]
  },
  {
   "cell_type": "markdown",
   "metadata": {
    "id": "j74d7rp27E47"
   },
   "source": [
    "#### 5.b  Matriz"
   ]
  },
  {
   "cell_type": "code",
   "execution_count": null,
   "metadata": {
    "colab": {
     "base_uri": "https://localhost:8080/"
    },
    "executionInfo": {
     "elapsed": 244,
     "status": "ok",
     "timestamp": 1652822903931,
     "user": {
      "displayName": "Alfredo Gonzalezf",
      "userId": "10271437243951850394"
     },
     "user_tz": 240
    },
    "id": "avvEBHyP_lku",
    "outputId": "a5ce2a72-58dc-4d3c-ba57-8b6ab24e777f"
   },
   "outputs": [
    {
     "name": "stdout",
     "output_type": "stream",
     "text": [
      "[[ 2  4  6  8 10]\n",
      " [ 1  3  5  7  9]]\n",
      "\n",
      "\n",
      "[[ 2  4  6  8 10  1  3  5  7  9]]\n"
     ]
    }
   ],
   "source": [
    "import numpy as np\n",
    "#Ejemplo_20: Se define una matriz y posterior a ello, se cambiarán las dimensiones\n",
    "matriz_20 = np.matrix([[2, 4, 6, 8, 10], [1, 3, 5, 7, 9]])\n",
    "print(matriz_20)\n",
    "\n",
    "print(\"\\n\")\n",
    "\n",
    "nueva_matriz = matriz_20.flatten()\n",
    "print(nueva_matriz)"
   ]
  },
  {
   "cell_type": "markdown",
   "metadata": {
    "id": "7S1ggwJd_1PX"
   },
   "source": [
    "El **ejemplo_20** muestra como la matriz cambió sus dimensiones y se convirtió en una nueva matriz donde tiene solo 1 fila y tantas columnas como elementos tenía la matriz original."
   ]
  },
  {
   "cell_type": "markdown",
   "metadata": {
    "id": "pYbipesl8J_H"
   },
   "source": [
    "## Funciones Generadoras"
   ]
  },
  {
   "cell_type": "markdown",
   "metadata": {
    "id": "bG3FkU4q8M6O"
   },
   "source": [
    "Dentro de las distintas herramientas que ofrece Numpy, se destacan algunas funciones que permiten facilitar el trabajo que se lleva a cabo con el uso de vectores y matrices, vale decir, Numpy ofrece funciones que generan determinadas matrices/vectores para algunos casos determinados. Entre dichas funciones se pueden encontrar: \n"
   ]
  },
  {
   "cell_type": "markdown",
   "metadata": {
    "id": "RW73QQBh9szD"
   },
   "source": [
    "### 1.  Función arange()"
   ]
  },
  {
   "cell_type": "markdown",
   "metadata": {
    "id": "PVSiZC_s9w8d"
   },
   "source": [
    "La función `arange` genera un vector con la cantidad de datos que se desea. Para ello, se pueden ingresar 3 parámetros, **`arange(x, y, z)`**:\n",
    "\n",
    "*   **x**: número inicial\n",
    "*   **y**: número final (al cual no se accede)\n",
    "*   **z**: distancia entre los valores del vector"
   ]
  },
  {
   "cell_type": "code",
   "execution_count": 24,
   "metadata": {
    "colab": {
     "base_uri": "https://localhost:8080/"
    },
    "executionInfo": {
     "elapsed": 260,
     "status": "ok",
     "timestamp": 1652823898329,
     "user": {
      "displayName": "Alfredo Gonzalezf",
      "userId": "10271437243951850394"
     },
     "user_tz": 240
    },
    "id": "uw84Il1--pzT",
    "outputId": "e93985da-50ca-4604-bd2c-9f22553b9515"
   },
   "outputs": [
    {
     "name": "stdout",
     "output_type": "stream",
     "text": [
      "[ 2  5  8 11 14 17]\n"
     ]
    }
   ],
   "source": [
    "import numpy as np\n",
    "# Ejemplo 21: se genera un vector mediante el uso de la función arange\n",
    "vector = np.arange(2, 20, 3)\n",
    "print(vector)"
   ]
  },
  {
   "cell_type": "markdown",
   "metadata": {
    "id": "LycIqr4i_CIr"
   },
   "source": [
    "La función arange puede usarse solo con 2 parámetros, **`arange(x, y)`**, omitiéndose el parámetro **z**, el cual por defecto toma el valor 1 (distancia entre los puntos)"
   ]
  },
  {
   "cell_type": "code",
   "execution_count": 25,
   "metadata": {
    "colab": {
     "base_uri": "https://localhost:8080/"
    },
    "executionInfo": {
     "elapsed": 243,
     "status": "ok",
     "timestamp": 1652823994884,
     "user": {
      "displayName": "Alfredo Gonzalezf",
      "userId": "10271437243951850394"
     },
     "user_tz": 240
    },
    "id": "xpt6nwXP_JmN",
    "outputId": "fbe46df9-583f-4565-ad99-d2fd25335c27"
   },
   "outputs": [
    {
     "name": "stdout",
     "output_type": "stream",
     "text": [
      "[ 2  3  4  5  6  7  8  9 10 11 12 13 14 15 16 17 18 19]\n"
     ]
    }
   ],
   "source": [
    "import numpy as np\n",
    "# Ejemplo 22: se genera un vector mediante el uso de la función arange\n",
    "vector = np.arange(2, 20)\n",
    "print(vector)"
   ]
  },
  {
   "cell_type": "markdown",
   "metadata": {
    "id": "Nl5gKTEA_l7R"
   },
   "source": [
    "Por último, la función `arange` puede invocarse solo con un parámetro **`arange(y)`**, omitiéndose los parámetros **x** e **z**. Dichos valores tomaran valores por defecto **0** y **1** respectivamente"
   ]
  },
  {
   "cell_type": "code",
   "execution_count": null,
   "metadata": {
    "colab": {
     "base_uri": "https://localhost:8080/"
    },
    "executionInfo": {
     "elapsed": 233,
     "status": "ok",
     "timestamp": 1652824117072,
     "user": {
      "displayName": "Alfredo Gonzalezf",
      "userId": "10271437243951850394"
     },
     "user_tz": 240
    },
    "id": "Ib6BjhiW_mbW",
    "outputId": "2366d666-e318-4018-fff0-f82ec8089df8"
   },
   "outputs": [
    {
     "name": "stdout",
     "output_type": "stream",
     "text": [
      "[ 0  1  2  3  4  5  6  7  8  9 10 11 12 13 14 15 16 17 18 19]\n"
     ]
    }
   ],
   "source": [
    "import numpy as np\n",
    "# Ejemplo 23: se genera un vector mediante el uso de la función arange\n",
    "vector = np.arange(20)\n",
    "print(vector)"
   ]
  },
  {
   "cell_type": "markdown",
   "metadata": {},
   "source": [
    "Si bien su uso se basa en la función nativa `range`, tiene dos diferencias importantes con esta: genera un `array` como resultado y puede usar números flotantes como parámetros:"
   ]
  },
  {
   "cell_type": "code",
   "execution_count": 26,
   "metadata": {},
   "outputs": [
    {
     "name": "stdout",
     "output_type": "stream",
     "text": [
      "[-1.5 -1.  -0.5  0.   0.5  1.   1.5]\n"
     ]
    }
   ],
   "source": [
    "import numpy as np\n",
    "# Ejemplo 21: se genera un vector mediante el uso de la función arange\n",
    "vector = np.arange(-1.5, 2.0, 0.5)\n",
    "print(vector)"
   ]
  },
  {
   "cell_type": "markdown",
   "metadata": {
    "id": "Y4QHcvwiAmJw"
   },
   "source": [
    "### 2.  Función `linspace()`"
   ]
  },
  {
   "cell_type": "markdown",
   "metadata": {
    "id": "ciO8RcZMAvqC"
   },
   "source": [
    "Una función similar a la vista anteriormente es la función linspace(), la cual genera un vector mediante el ingreso de 3 parámetros **`linspace(x, y, z)`**, donde:\n",
    "*   **x**: Número inicial\n",
    "*   **y**: Número final (que sí se incluye en el vector final)\n",
    "*   **z**: cantidad de puntos equidistantes\n",
    "\n"
   ]
  },
  {
   "cell_type": "code",
   "execution_count": 28,
   "metadata": {
    "colab": {
     "base_uri": "https://localhost:8080/"
    },
    "executionInfo": {
     "elapsed": 238,
     "status": "ok",
     "timestamp": 1652825047683,
     "user": {
      "displayName": "Alfredo Gonzalezf",
      "userId": "10271437243951850394"
     },
     "user_tz": 240
    },
    "id": "OIC8iW0mCCYm",
    "outputId": "2c5fde5e-c283-425e-8f1f-2bd8a2bc6ac5"
   },
   "outputs": [
    {
     "name": "stdout",
     "output_type": "stream",
     "text": [
      "[2.         2.57142857 3.14285714 3.71428571 4.28571429 4.85714286\n",
      " 5.42857143 6.        ]\n"
     ]
    }
   ],
   "source": [
    "import numpy as np\n",
    "#Ejemplo 24: se genera un vector mediante el uso de la función linspace\n",
    "vector = np.linspace(2, 6, 8)\n",
    "print(vector)"
   ]
  },
  {
   "cell_type": "markdown",
   "metadata": {
    "id": "QxXCUuvvCvPl"
   },
   "source": [
    "La función `linspace` puede usarse solo con 2 parámetros **`linspace(x, y)`**, omitiéndose el parámetro **z**, el cual por defecto toma el valor 50 (cantidad de puntos equidistantes)"
   ]
  },
  {
   "cell_type": "code",
   "execution_count": 27,
   "metadata": {
    "colab": {
     "base_uri": "https://localhost:8080/"
    },
    "executionInfo": {
     "elapsed": 284,
     "status": "ok",
     "timestamp": 1652825068040,
     "user": {
      "displayName": "Alfredo Gonzalezf",
      "userId": "10271437243951850394"
     },
     "user_tz": 240
    },
    "id": "nKqk6_PGDFco",
    "outputId": "09ce4ab8-1765-448f-f205-94c3a3a9a0fb"
   },
   "outputs": [
    {
     "name": "stdout",
     "output_type": "stream",
     "text": [
      "[  2.   4.   6.   8.  10.  12.  14.  16.  18.  20.  22.  24.  26.  28.\n",
      "  30.  32.  34.  36.  38.  40.  42.  44.  46.  48.  50.  52.  54.  56.\n",
      "  58.  60.  62.  64.  66.  68.  70.  72.  74.  76.  78.  80.  82.  84.\n",
      "  86.  88.  90.  92.  94.  96.  98. 100.]\n"
     ]
    }
   ],
   "source": [
    "import numpy as np\n",
    "# Ejemplo 25: se genera un vector mediante el uso de la función linspace\n",
    "vector = np.linspace(2, 100)\n",
    "print(vector)"
   ]
  },
  {
   "cell_type": "markdown",
   "metadata": {
    "id": "0Uy0W_kr7Nko"
   },
   "source": [
    "### 3.  Función `diag()`"
   ]
  },
  {
   "cell_type": "markdown",
   "metadata": {
    "id": "qN4Ksvhk7UI-"
   },
   "source": [
    "Numpy ofrece funciones para trabajar directamente con matrices, y una de las funciones que se puede destacar es `diag()`. Esta función recibe como entrada una lista o vector (arreglo) y entrega como salida un arreglo de dos dimensiones, donde el vector/lista ingresada corresponde a la **diagonal** y el resto de los números tienen valor 0."
   ]
  },
  {
   "cell_type": "code",
   "execution_count": 29,
   "metadata": {
    "colab": {
     "base_uri": "https://localhost:8080/"
    },
    "executionInfo": {
     "elapsed": 10,
     "status": "ok",
     "timestamp": 1652839973170,
     "user": {
      "displayName": "Alfredo Gonzalezf",
      "userId": "10271437243951850394"
     },
     "user_tz": 240
    },
    "id": "blFvCrBg74bY",
    "outputId": "bbd4ba28-869e-4643-ce6d-67fc7a37df53"
   },
   "outputs": [
    {
     "name": "stdout",
     "output_type": "stream",
     "text": [
      "[[1 0 0 0 0]\n",
      " [0 2 0 0 0]\n",
      " [0 0 3 0 0]\n",
      " [0 0 0 4 0]\n",
      " [0 0 0 0 5]]\n"
     ]
    }
   ],
   "source": [
    "import numpy as np\n",
    "# Ejemplo 26: se genera un vector de dos dimensiones cuya diagonal corresponde a la lista ingresada\n",
    "vector = np.diag([1, 2, 3, 4, 5])\n",
    "print(vector)"
   ]
  },
  {
   "cell_type": "markdown",
   "metadata": {
    "id": "3nxRf9N68efv"
   },
   "source": [
    "### 4.  Función `zeros()`"
   ]
  },
  {
   "cell_type": "markdown",
   "metadata": {
    "id": "D0oZYjJt8iaz"
   },
   "source": [
    "La función `zeros()` es una función generadora de vectores. Para utilizarla se requiere como entrada la cantidad de filas y columnas deseadas (**en formato de lista**), generando un vector con las dimensiones mencionadas con todos sus elementos de valor 0. Si se da solo un número como parámetro, se genera un vector plano con esa cantidad de elementos."
   ]
  },
  {
   "cell_type": "code",
   "execution_count": 30,
   "metadata": {
    "colab": {
     "base_uri": "https://localhost:8080/"
    },
    "executionInfo": {
     "elapsed": 388,
     "status": "ok",
     "timestamp": 1652840835923,
     "user": {
      "displayName": "Alfredo Gonzalezf",
      "userId": "10271437243951850394"
     },
     "user_tz": 240
    },
    "id": "29tCABn6_EfC",
    "outputId": "307eb524-862c-4953-f123-a2058bb7492e"
   },
   "outputs": [
    {
     "name": "stdout",
     "output_type": "stream",
     "text": [
      "[[0. 0. 0.]\n",
      " [0. 0. 0.]\n",
      " [0. 0. 0.]\n",
      " [0. 0. 0.]\n",
      " [0. 0. 0.]]\n"
     ]
    }
   ],
   "source": [
    "import numpy as np\n",
    "# Ejemplo 27: se genera un vector multidimensional con las dimensiones indicadas en formato lista\n",
    "vector = np.zeros([5, 3])\n",
    "print(vector)"
   ]
  },
  {
   "cell_type": "markdown",
   "metadata": {
    "id": "PL968oid_ls7"
   },
   "source": [
    "### 5.  Función `ones()`"
   ]
  },
  {
   "cell_type": "markdown",
   "metadata": {
    "id": "fz34dul-_rcE"
   },
   "source": [
    "Al igual que la función `zeros()`, la función `ones()` es una generadora de vectores. Para utilizarla se requiere como entrada la cantidad de filas y columnas deseadas (**en formato de lista**), generando un vector con las dimensiones mencionadas con todos sus elementos de valor 1. Si se da solo un número como parámetro, se genera un vector plano con esa cantidad de elementos."
   ]
  },
  {
   "cell_type": "code",
   "execution_count": 31,
   "metadata": {
    "colab": {
     "base_uri": "https://localhost:8080/"
    },
    "executionInfo": {
     "elapsed": 392,
     "status": "ok",
     "timestamp": 1652840977538,
     "user": {
      "displayName": "Alfredo Gonzalezf",
      "userId": "10271437243951850394"
     },
     "user_tz": 240
    },
    "id": "FhpJ-sjM_4rW",
    "outputId": "c1856567-b6d1-4472-ab24-8ded93139797"
   },
   "outputs": [
    {
     "name": "stdout",
     "output_type": "stream",
     "text": [
      "[[1. 1. 1. 1. 1. 1.]\n",
      " [1. 1. 1. 1. 1. 1.]\n",
      " [1. 1. 1. 1. 1. 1.]\n",
      " [1. 1. 1. 1. 1. 1.]]\n"
     ]
    }
   ],
   "source": [
    "import numpy as np\n",
    "# Ejemplo 28: se genera un vector multidimensional con las dimensiones indicadas en formato lista\n",
    "vector = np.ones([4, 6])\n",
    "print(vector)"
   ]
  },
  {
   "cell_type": "markdown",
   "metadata": {
    "id": "GXX_HmSJB4E1"
   },
   "source": [
    "### 6.  Función `identity()`"
   ]
  },
  {
   "cell_type": "markdown",
   "metadata": {
    "id": "qN_4iXCkB7Xx"
   },
   "source": [
    "La función `identity()` genera un vector multidimensional en donde la diagonal de dicho vector está constituido por valores 1. En otras palabras, esta función genera la matriz identidad de las dimensiones señaladas. Para poder utilizarla, se requiere que, como parámetro de entrada, se ingrese la cantidad de filas/columnas que se requiere (solo será un parámetro, puesto que genera una matriz de dimensiones $n\\times n$)."
   ]
  },
  {
   "cell_type": "code",
   "execution_count": 32,
   "metadata": {
    "colab": {
     "base_uri": "https://localhost:8080/"
    },
    "executionInfo": {
     "elapsed": 409,
     "status": "ok",
     "timestamp": 1652841696781,
     "user": {
      "displayName": "Alfredo Gonzalezf",
      "userId": "10271437243951850394"
     },
     "user_tz": 240
    },
    "id": "j90Qc2etCQEV",
    "outputId": "1c68ddfb-41ec-47b9-a2a8-7e168931a566"
   },
   "outputs": [
    {
     "name": "stdout",
     "output_type": "stream",
     "text": [
      "[[1. 0. 0. 0.]\n",
      " [0. 1. 0. 0.]\n",
      " [0. 0. 1. 0.]\n",
      " [0. 0. 0. 1.]]\n"
     ]
    }
   ],
   "source": [
    "import numpy as np\n",
    "# Ejemplo 29: se genera un vector multidimensional correspondiente a la matriz identidad\n",
    "vector_identidad = np.identity(4)\n",
    "print(vector_identidad)"
   ]
  },
  {
   "cell_type": "markdown",
   "metadata": {},
   "source": [
    "# Bibliografía\n",
    "\n",
    "# Numpy\n",
    "GeeksforGeeks. (2018, 15 octubre). Python Numpy. Recuperado 9 de agosto de 2022, de https://www.geeksforgeeks.org/python-numpy/\n",
    "\n",
    "Harris, C.R., Millman, K.J., van der Walt, S.J. et al. Array programming with NumPy. Nature 585, 357–362 (2020). DOI: 10.1038/s41586-020-2649-2. (Publisher link).\n",
    "\n",
    "NumPy. (2022, 22 junio). Learn. Recuperado 9 de agosto de 2022, de https://numpy.org/learn/\n",
    "\n",
    "Sundnes, J. (2020). Arrays and Plotting. En *Introduction to Scientific Programming with Python* (1.a ed., p. 81). Springer. https://doi.org/10.1007/978-3-030-50356-7"
   ]
  }
 ],
 "metadata": {
  "colab": {
   "authorship_tag": "ABX9TyNKGTnnQPaLGh6LBVG3MWA3",
   "name": "14 - Numpy.ipynb",
   "provenance": []
  },
  "kernelspec": {
   "display_name": "Python 3 (ipykernel)",
   "language": "python",
   "name": "python3"
  },
  "language_info": {
   "codemirror_mode": {
    "name": "ipython",
    "version": 3
   },
   "file_extension": ".py",
   "mimetype": "text/x-python",
   "name": "python",
   "nbconvert_exporter": "python",
   "pygments_lexer": "ipython3",
   "version": "3.9.7"
  },
  "vscode": {
   "interpreter": {
    "hash": "26de051ba29f2982a8de78e945f0abaf191376122a1563185a90213a26c5da77"
   }
  }
 },
 "nbformat": 4,
 "nbformat_minor": 1
}
